{
  "cells": [
    {
      "cell_type": "markdown",
      "metadata": {
        "id": "view-in-github",
        "colab_type": "text"
      },
      "source": [
        "<a href=\"https://colab.research.google.com/github/shaheerzubery/Whisper/blob/main/adapting_pretrained_pipeline.ipynb\" target=\"_parent\"><img src=\"https://colab.research.google.com/assets/colab-badge.svg\" alt=\"Open In Colab\"/></a>"
      ]
    },
    {
      "cell_type": "markdown",
      "metadata": {
        "id": "npzkG4poB2BH"
      },
      "source": [
        "# Adapting pyannote.audio 2.1 pretrained speaker diarization pipeline to your own data\n",
        "\n",
        "> \"How I reached 1st place at Ego4D 2022, 1st place at Albayzin 2022, and 6th place at VoxSRC 2022 speaker diarization challenges\"\n",
        "\n",
        "[pyannote.audio](https://github.com/pyannote/pyannote-audio) is an open-source toolkit written in Python for speaker diarization.\n",
        "\n",
        "Version 2.1 introduces a major overhaul of the default speaker diarization pipeline, made of three main stages: speaker segmentation applied to a short sliding window, neural speaker embedding of each (local) speakers, and (global) agglomerative clustering.\n",
        "\n",
        "Despite its decent out-of-the-box performance, the default pipeline may suffer from the domain mismatch problem (common to most machine learning models) and not perform well on your own data. This tutorial will guide you through two recipes to adapt it to your own data and (hopefully) get better performance. Depending on the number and duration of labeled conversations, you may either focus on optimizing hyper-parameters or additionally fine-tune the internal speaker segmentation model."
      ]
    },
    {
      "cell_type": "markdown",
      "metadata": {
        "id": "pnaQ4JSLF8Ms"
      },
      "source": [
        "⚠ Make sure that you switch to a GPU runtime (Runtime > Change runtime type).  \n",
        "If you don't, everything will be extremely slow."
      ]
    },
    {
      "cell_type": "markdown",
      "metadata": {
        "id": "CZjbjOBBDrdm"
      },
      "source": [
        "## Installation\n",
        "\n",
        "Let's start by installing `pyannote.audio` 2.1.1 (and `rich` for pretty progress bars)."
      ]
    },
    {
      "cell_type": "code",
      "execution_count": null,
      "metadata": {
        "id": "_kYxY82Jzz3s",
        "colab": {
          "base_uri": "https://localhost:8080/"
        },
        "outputId": "2e9985c9-6072-4966-92d4-bbfefacbc2a8"
      },
      "outputs": [
        {
          "output_type": "stream",
          "name": "stdout",
          "text": [
            "\u001b[2K     \u001b[90m━━━━━━━━━━━━━━━━━━━━━━━━━━━━━━━━━━━━━━━\u001b[0m \u001b[32m390.7/390.7 kB\u001b[0m \u001b[31m8.3 MB/s\u001b[0m eta \u001b[36m0:00:00\u001b[0m\n",
            "\u001b[2K     \u001b[90m━━━━━━━━━━━━━━━━━━━━━━━━━━━━━━━━━━━━━━\u001b[0m \u001b[32m217.2/217.2 kB\u001b[0m \u001b[31m21.4 MB/s\u001b[0m eta \u001b[36m0:00:00\u001b[0m\n",
            "\u001b[2K     \u001b[90m━━━━━━━━━━━━━━━━━━━━━━━━━━━━━━━━━━━━━━\u001b[0m \u001b[32m268.8/268.8 kB\u001b[0m \u001b[31m30.9 MB/s\u001b[0m eta \u001b[36m0:00:00\u001b[0m\n",
            "\u001b[2K     \u001b[90m━━━━━━━━━━━━━━━━━━━━━━━━━━━━━━━━━━━━━━━━\u001b[0m \u001b[32m2.0/2.0 MB\u001b[0m \u001b[31m56.5 MB/s\u001b[0m eta \u001b[36m0:00:00\u001b[0m\n",
            "\u001b[2K     \u001b[90m━━━━━━━━━━━━━━━━━━━━━━━━━━━━━━━━━━━━━━━━\u001b[0m \u001b[32m79.5/79.5 kB\u001b[0m \u001b[31m8.4 MB/s\u001b[0m eta \u001b[36m0:00:00\u001b[0m\n",
            "\u001b[2K     \u001b[90m━━━━━━━━━━━━━━━━━━━━━━━━━━━━━━━━━━━━━━━━\u001b[0m \u001b[32m60.5/60.5 kB\u001b[0m \u001b[31m7.0 MB/s\u001b[0m eta \u001b[36m0:00:00\u001b[0m\n",
            "\u001b[2K     \u001b[90m━━━━━━━━━━━━━━━━━━━━━━━━━━━━━━━━━━━━━━━━\u001b[0m \u001b[32m41.6/41.6 kB\u001b[0m \u001b[31m4.6 MB/s\u001b[0m eta \u001b[36m0:00:00\u001b[0m\n",
            "\u001b[2K     \u001b[90m━━━━━━━━━━━━━━━━━━━━━━━━━━━━━━━━━━━━━━━━\u001b[0m \u001b[32m51.4/51.4 kB\u001b[0m \u001b[31m5.7 MB/s\u001b[0m eta \u001b[36m0:00:00\u001b[0m\n",
            "\u001b[2K     \u001b[90m━━━━━━━━━━━━━━━━━━━━━━━━━━━━━━━━━━━━━━\u001b[0m \u001b[32m585.9/585.9 kB\u001b[0m \u001b[31m51.8 MB/s\u001b[0m eta \u001b[36m0:00:00\u001b[0m\n",
            "\u001b[2K     \u001b[90m━━━━━━━━━━━━━━━━━━━━━━━━━━━━━━━━━━━━━━\u001b[0m \u001b[32m112.2/112.2 kB\u001b[0m \u001b[31m14.6 MB/s\u001b[0m eta \u001b[36m0:00:00\u001b[0m\n",
            "\u001b[2K     \u001b[90m━━━━━━━━━━━━━━━━━━━━━━━━━━━━━━━━━━━━━━\u001b[0m \u001b[32m519.0/519.0 kB\u001b[0m \u001b[31m44.3 MB/s\u001b[0m eta \u001b[36m0:00:00\u001b[0m\n",
            "\u001b[2K     \u001b[90m━━━━━━━━━━━━━━━━━━━━━━━━━━━━━━━━━━━━━━━━\u001b[0m \u001b[32m47.9/47.9 kB\u001b[0m \u001b[31m5.1 MB/s\u001b[0m eta \u001b[36m0:00:00\u001b[0m\n",
            "\u001b[2K     \u001b[90m━━━━━━━━━━━━━━━━━━━━━━━━━━━━━━━━━━━━━━━━\u001b[0m \u001b[32m4.2/4.2 MB\u001b[0m \u001b[31m77.9 MB/s\u001b[0m eta \u001b[36m0:00:00\u001b[0m\n",
            "\u001b[2K     \u001b[90m━━━━━━━━━━━━━━━━━━━━━━━━━━━━━━━━━━━━━━\u001b[0m \u001b[32m519.2/519.2 kB\u001b[0m \u001b[31m43.1 MB/s\u001b[0m eta \u001b[36m0:00:00\u001b[0m\n",
            "\u001b[2K     \u001b[90m━━━━━━━━━━━━━━━━━━━━━━━━━━━━━━━━━━━━━━\u001b[0m \u001b[32m117.0/117.0 kB\u001b[0m \u001b[31m13.7 MB/s\u001b[0m eta \u001b[36m0:00:00\u001b[0m\n",
            "\u001b[?25h  Preparing metadata (setup.py) ... \u001b[?25l\u001b[?25hdone\n",
            "\u001b[2K     \u001b[90m━━━━━━━━━━━━━━━━━━━━━━━━━━━━━━━━━━━━━━\u001b[0m \u001b[32m137.9/137.9 kB\u001b[0m \u001b[31m15.4 MB/s\u001b[0m eta \u001b[36m0:00:00\u001b[0m\n",
            "\u001b[?25h  Preparing metadata (setup.py) ... \u001b[?25l\u001b[?25hdone\n",
            "\u001b[2K     \u001b[90m━━━━━━━━━━━━━━━━━━━━━━━━━━━━━━━━━━━━━━\u001b[0m \u001b[32m390.6/390.6 kB\u001b[0m \u001b[31m41.2 MB/s\u001b[0m eta \u001b[36m0:00:00\u001b[0m\n",
            "\u001b[2K     \u001b[90m━━━━━━━━━━━━━━━━━━━━━━━━━━━━━━━━━━━━━━━━\u001b[0m \u001b[32m1.1/1.1 MB\u001b[0m \u001b[31m65.1 MB/s\u001b[0m eta \u001b[36m0:00:00\u001b[0m\n",
            "\u001b[2K     \u001b[90m━━━━━━━━━━━━━━━━━━━━━━━━━━━━━━━━━━━━━━━━\u001b[0m \u001b[32m1.3/1.3 MB\u001b[0m \u001b[31m69.4 MB/s\u001b[0m eta \u001b[36m0:00:00\u001b[0m\n",
            "\u001b[2K     \u001b[90m━━━━━━━━━━━━━━━━━━━━━━━━━━━━━━━━━━━━━━━━\u001b[0m \u001b[32m59.6/59.6 kB\u001b[0m \u001b[31m8.1 MB/s\u001b[0m eta \u001b[36m0:00:00\u001b[0m\n",
            "\u001b[?25h  Preparing metadata (setup.py) ... \u001b[?25l\u001b[?25hdone\n",
            "\u001b[2K     \u001b[90m━━━━━━━━━━━━━━━━━━━━━━━━━━━━━━━━━━━━━━━\u001b[0m \u001b[32m887.5/887.5 MB\u001b[0m \u001b[31m1.6 MB/s\u001b[0m eta \u001b[36m0:00:00\u001b[0m\n",
            "\u001b[2K     \u001b[90m━━━━━━━━━━━━━━━━━━━━━━━━━━━━━━━━━━━━━━\u001b[0m \u001b[32m849.3/849.3 kB\u001b[0m \u001b[31m65.1 MB/s\u001b[0m eta \u001b[36m0:00:00\u001b[0m\n",
            "\u001b[2K     \u001b[90m━━━━━━━━━━━━━━━━━━━━━━━━━━━━━━━━━━━━━━━\u001b[0m \u001b[32m557.1/557.1 MB\u001b[0m \u001b[31m2.8 MB/s\u001b[0m eta \u001b[36m0:00:00\u001b[0m\n",
            "\u001b[2K     \u001b[90m━━━━━━━━━━━━━━━━━━━━━━━━━━━━━━━━━━━━━━━\u001b[0m \u001b[32m317.1/317.1 MB\u001b[0m \u001b[31m4.4 MB/s\u001b[0m eta \u001b[36m0:00:00\u001b[0m\n",
            "\u001b[2K     \u001b[90m━━━━━━━━━━━━━━━━━━━━━━━━━━━━━━━━━━━━━━━━\u001b[0m \u001b[32m21.0/21.0 MB\u001b[0m \u001b[31m76.3 MB/s\u001b[0m eta \u001b[36m0:00:00\u001b[0m\n",
            "\u001b[2K     \u001b[90m━━━━━━━━━━━━━━━━━━━━━━━━━━━━━━━━━━━━━━\u001b[0m \u001b[32m253.0/253.0 kB\u001b[0m \u001b[31m30.3 MB/s\u001b[0m eta \u001b[36m0:00:00\u001b[0m\n",
            "\u001b[2K     \u001b[90m━━━━━━━━━━━━━━━━━━━━━━━━━━━━━━━━━━━━━━\u001b[0m \u001b[32m252.9/252.9 kB\u001b[0m \u001b[31m28.2 MB/s\u001b[0m eta \u001b[36m0:00:00\u001b[0m\n",
            "\u001b[2K     \u001b[90m━━━━━━━━━━━━━━━━━━━━━━━━━━━━━━━━━━━━━━\u001b[0m \u001b[32m214.3/214.3 kB\u001b[0m \u001b[31m28.2 MB/s\u001b[0m eta \u001b[36m0:00:00\u001b[0m\n",
            "\u001b[2K     \u001b[90m━━━━━━━━━━━━━━━━━━━━━━━━━━━━━━━━━━━━━━━━\u001b[0m \u001b[32m3.1/3.1 MB\u001b[0m \u001b[31m87.3 MB/s\u001b[0m eta \u001b[36m0:00:00\u001b[0m\n",
            "\u001b[2K     \u001b[90m━━━━━━━━━━━━━━━━━━━━━━━━━━━━━━━━━━━━━━\u001b[0m \u001b[32m224.5/224.5 kB\u001b[0m \u001b[31m25.0 MB/s\u001b[0m eta \u001b[36m0:00:00\u001b[0m\n",
            "\u001b[2K     \u001b[90m━━━━━━━━━━━━━━━━━━━━━━━━━━━━━━━━━━━━━━\u001b[0m \u001b[32m109.6/109.6 kB\u001b[0m \u001b[31m12.2 MB/s\u001b[0m eta \u001b[36m0:00:00\u001b[0m\n",
            "\u001b[2K     \u001b[90m━━━━━━━━━━━━━━━━━━━━━━━━━━━━━━━━━━━━━━━━\u001b[0m \u001b[32m78.7/78.7 kB\u001b[0m \u001b[31m8.7 MB/s\u001b[0m eta \u001b[36m0:00:00\u001b[0m\n",
            "\u001b[2K     \u001b[90m━━━━━━━━━━━━━━━━━━━━━━━━━━━━━━━━━━━━━━\u001b[0m \u001b[32m485.6/485.6 kB\u001b[0m \u001b[31m43.6 MB/s\u001b[0m eta \u001b[36m0:00:00\u001b[0m\n",
            "\u001b[?25h  Building wheel for antlr4-python3-runtime (setup.py) ... \u001b[?25l\u001b[?25hdone\n",
            "  Building wheel for docopt (setup.py) ... \u001b[?25l\u001b[?25hdone\n",
            "  Building wheel for julius (setup.py) ... \u001b[?25l\u001b[?25hdone\n",
            "\u001b[31mERROR: pip's dependency resolver does not currently take into account all the packages that are installed. This behaviour is the source of the following dependency conflicts.\n",
            "google-api-core 2.11.1 requires protobuf!=3.20.0,!=3.20.1,!=4.21.0,!=4.21.1,!=4.21.2,!=4.21.3,!=4.21.4,!=4.21.5,<5.0.0.dev0,>=3.19.5, but you have protobuf 3.20.1 which is incompatible.\n",
            "google-cloud-bigquery 3.10.0 requires protobuf!=3.20.0,!=3.20.1,!=4.21.0,!=4.21.1,!=4.21.2,!=4.21.3,!=4.21.4,!=4.21.5,<5.0.0dev,>=3.19.5, but you have protobuf 3.20.1 which is incompatible.\n",
            "google-cloud-bigquery-connection 1.12.1 requires protobuf!=3.20.0,!=3.20.1,!=4.21.0,!=4.21.1,!=4.21.2,!=4.21.3,!=4.21.4,!=4.21.5,<5.0.0dev,>=3.19.5, but you have protobuf 3.20.1 which is incompatible.\n",
            "google-cloud-bigquery-storage 2.22.0 requires protobuf!=3.20.0,!=3.20.1,!=4.21.0,!=4.21.1,!=4.21.2,!=4.21.3,!=4.21.4,!=4.21.5,<5.0.0dev,>=3.19.5, but you have protobuf 3.20.1 which is incompatible.\n",
            "google-cloud-datastore 2.15.2 requires protobuf!=3.20.0,!=3.20.1,!=4.21.0,!=4.21.1,!=4.21.2,!=4.21.3,!=4.21.4,!=4.21.5,<5.0.0dev,>=3.19.5, but you have protobuf 3.20.1 which is incompatible.\n",
            "google-cloud-firestore 2.11.1 requires protobuf!=3.20.0,!=3.20.1,!=4.21.0,!=4.21.1,!=4.21.2,!=4.21.3,!=4.21.4,!=4.21.5,<5.0.0dev,>=3.19.5, but you have protobuf 3.20.1 which is incompatible.\n",
            "google-cloud-functions 1.13.1 requires protobuf!=3.20.0,!=3.20.1,!=4.21.0,!=4.21.1,!=4.21.2,!=4.21.3,!=4.21.4,!=4.21.5,<5.0.0dev,>=3.19.5, but you have protobuf 3.20.1 which is incompatible.\n",
            "google-cloud-language 2.9.1 requires protobuf!=3.20.0,!=3.20.1,!=4.21.0,!=4.21.1,!=4.21.2,!=4.21.3,!=4.21.4,!=4.21.5,<5.0.0dev,>=3.19.5, but you have protobuf 3.20.1 which is incompatible.\n",
            "google-cloud-translate 3.11.2 requires protobuf!=3.20.0,!=3.20.1,!=4.21.0,!=4.21.1,!=4.21.2,!=4.21.3,!=4.21.4,!=4.21.5,<5.0.0dev,>=3.19.5, but you have protobuf 3.20.1 which is incompatible.\n",
            "googleapis-common-protos 1.59.1 requires protobuf!=3.20.0,!=3.20.1,!=4.21.1,!=4.21.2,!=4.21.3,!=4.21.4,!=4.21.5,<5.0.0.dev0,>=3.19.5, but you have protobuf 3.20.1 which is incompatible.\n",
            "grpc-google-iam-v1 0.12.6 requires protobuf!=3.20.0,!=3.20.1,!=4.21.1,!=4.21.2,!=4.21.3,!=4.21.4,!=4.21.5,<5.0.0dev,>=3.19.5, but you have protobuf 3.20.1 which is incompatible.\n",
            "tensorflow 2.12.0 requires protobuf!=4.21.0,!=4.21.1,!=4.21.2,!=4.21.3,!=4.21.4,!=4.21.5,<5.0.0dev,>=3.20.3, but you have protobuf 3.20.1 which is incompatible.\n",
            "tensorflow-metadata 1.13.1 requires protobuf<5,>=3.20.3, but you have protobuf 3.20.1 which is incompatible.\n",
            "torchdata 0.6.1 requires torch==2.0.1, but you have torch 1.13.1 which is incompatible.\n",
            "torchtext 0.15.2 requires torch==2.0.1, but you have torch 1.13.1 which is incompatible.\n",
            "torchvision 0.15.2+cu118 requires torch==2.0.1, but you have torch 1.13.1 which is incompatible.\u001b[0m\u001b[31m\n",
            "\u001b[0m"
          ]
        }
      ],
      "source": [
        "!pip install -qq pyannote.audio==2.1.1\n",
        "!pip install -qq rich"
      ]
    },
    {
      "cell_type": "markdown",
      "metadata": {
        "id": "ndQ10VIf2W1c"
      },
      "source": [
        "⚠ Restart the runtime (Runtime > Restart runtime).  \n",
        "If you don't, `pyannote.database` will throw an error below."
      ]
    },
    {
      "cell_type": "markdown",
      "metadata": {
        "id": "lz-b8j6RD7H6"
      },
      "source": [
        "## Data preparation\n",
        "\n",
        "First things first: we need data... Annotated data! Ideally, lots of annotated data!\n",
        "\n",
        "For the purpose of this tutorial, we will rely on the AMI-SDM (single distance microphone) corpus.\n"
      ]
    },
    {
      "cell_type": "code",
      "source": [
        "import locale\n",
        "def getpreferredencoding(do_setlocale = True):\n",
        "    return \"UTF-8\"\n",
        "locale.getpreferredencoding = getpreferredencoding\n",
        "\n",
        "!pip install torch==2.0.0+cu117 torchvision==0.15.1+cu117 torchaudio==2.0.1 --index-url https://download.pytorch.org/whl/cu117"
      ],
      "metadata": {
        "colab": {
          "base_uri": "https://localhost:8080/"
        },
        "id": "bw0v81xsdJGS",
        "outputId": "4eca5de5-a801-49e2-b099-d5701d9abb6d"
      },
      "execution_count": null,
      "outputs": [
        {
          "output_type": "stream",
          "name": "stdout",
          "text": [
            "Looking in indexes: https://download.pytorch.org/whl/cu117\n",
            "Collecting torch==2.0.0+cu117\n",
            "  Downloading https://download.pytorch.org/whl/cu117/torch-2.0.0%2Bcu117-cp310-cp310-linux_x86_64.whl (1843.9 MB)\n",
            "\u001b[2K     \u001b[90m━━━━━━━━━━━━━━━━━━━━━━━━━━━━━━━━━━━━━━━━\u001b[0m \u001b[32m1.8/1.8 GB\u001b[0m \u001b[31m580.0 kB/s\u001b[0m eta \u001b[36m0:00:00\u001b[0m\n",
            "\u001b[?25hCollecting torchvision==0.15.1+cu117\n",
            "  Downloading https://download.pytorch.org/whl/cu117/torchvision-0.15.1%2Bcu117-cp310-cp310-linux_x86_64.whl (6.1 MB)\n",
            "\u001b[2K     \u001b[90m━━━━━━━━━━━━━━━━━━━━━━━━━━━━━━━━━━━━━━━━\u001b[0m \u001b[32m6.1/6.1 MB\u001b[0m \u001b[31m59.5 MB/s\u001b[0m eta \u001b[36m0:00:00\u001b[0m\n",
            "\u001b[?25hCollecting torchaudio==2.0.1\n",
            "  Downloading https://download.pytorch.org/whl/cu117/torchaudio-2.0.1%2Bcu117-cp310-cp310-linux_x86_64.whl (4.4 MB)\n",
            "\u001b[2K     \u001b[90m━━━━━━━━━━━━━━━━━━━━━━━━━━━━━━━━━━━━━━━━\u001b[0m \u001b[32m4.4/4.4 MB\u001b[0m \u001b[31m70.3 MB/s\u001b[0m eta \u001b[36m0:00:00\u001b[0m\n",
            "\u001b[?25hRequirement already satisfied: filelock in /usr/local/lib/python3.10/dist-packages (from torch==2.0.0+cu117) (3.12.2)\n",
            "Requirement already satisfied: typing-extensions in /usr/local/lib/python3.10/dist-packages (from torch==2.0.0+cu117) (4.7.1)\n",
            "Requirement already satisfied: sympy in /usr/local/lib/python3.10/dist-packages (from torch==2.0.0+cu117) (1.11.1)\n",
            "Requirement already satisfied: networkx in /usr/local/lib/python3.10/dist-packages (from torch==2.0.0+cu117) (2.8.8)\n",
            "Requirement already satisfied: jinja2 in /usr/local/lib/python3.10/dist-packages (from torch==2.0.0+cu117) (3.1.2)\n",
            "Requirement already satisfied: triton==2.0.0 in /usr/local/lib/python3.10/dist-packages (from torch==2.0.0+cu117) (2.0.0)\n",
            "Requirement already satisfied: numpy in /usr/local/lib/python3.10/dist-packages (from torchvision==0.15.1+cu117) (1.22.4)\n",
            "Requirement already satisfied: requests in /usr/local/lib/python3.10/dist-packages (from torchvision==0.15.1+cu117) (2.27.1)\n",
            "Requirement already satisfied: pillow!=8.3.*,>=5.3.0 in /usr/local/lib/python3.10/dist-packages (from torchvision==0.15.1+cu117) (8.4.0)\n",
            "Requirement already satisfied: cmake in /usr/local/lib/python3.10/dist-packages (from triton==2.0.0->torch==2.0.0+cu117) (3.25.2)\n",
            "Requirement already satisfied: lit in /usr/local/lib/python3.10/dist-packages (from triton==2.0.0->torch==2.0.0+cu117) (16.0.6)\n",
            "Requirement already satisfied: MarkupSafe>=2.0 in /usr/local/lib/python3.10/dist-packages (from jinja2->torch==2.0.0+cu117) (2.1.3)\n",
            "Requirement already satisfied: urllib3<1.27,>=1.21.1 in /usr/local/lib/python3.10/dist-packages (from requests->torchvision==0.15.1+cu117) (1.26.16)\n",
            "Requirement already satisfied: certifi>=2017.4.17 in /usr/local/lib/python3.10/dist-packages (from requests->torchvision==0.15.1+cu117) (2023.5.7)\n",
            "Requirement already satisfied: charset-normalizer~=2.0.0 in /usr/local/lib/python3.10/dist-packages (from requests->torchvision==0.15.1+cu117) (2.0.12)\n",
            "Requirement already satisfied: idna<4,>=2.5 in /usr/local/lib/python3.10/dist-packages (from requests->torchvision==0.15.1+cu117) (3.4)\n",
            "Requirement already satisfied: mpmath>=0.19 in /usr/local/lib/python3.10/dist-packages (from sympy->torch==2.0.0+cu117) (1.3.0)\n",
            "Installing collected packages: torch, torchvision, torchaudio\n",
            "  Attempting uninstall: torch\n",
            "    Found existing installation: torch 1.13.1\n",
            "    Uninstalling torch-1.13.1:\n",
            "      Successfully uninstalled torch-1.13.1\n",
            "  Attempting uninstall: torchvision\n",
            "    Found existing installation: torchvision 0.15.2+cu118\n",
            "    Uninstalling torchvision-0.15.2+cu118:\n",
            "      Successfully uninstalled torchvision-0.15.2+cu118\n",
            "  Attempting uninstall: torchaudio\n",
            "    Found existing installation: torchaudio 0.13.1\n",
            "    Uninstalling torchaudio-0.13.1:\n",
            "      Successfully uninstalled torchaudio-0.13.1\n",
            "\u001b[31mERROR: pip's dependency resolver does not currently take into account all the packages that are installed. This behaviour is the source of the following dependency conflicts.\n",
            "pyannote-audio 2.1.1 requires torchaudio<1.0,>=0.10, but you have torchaudio 2.0.1+cu117 which is incompatible.\n",
            "torchdata 0.6.1 requires torch==2.0.1, but you have torch 2.0.0+cu117 which is incompatible.\n",
            "torchtext 0.15.2 requires torch==2.0.1, but you have torch 2.0.0+cu117 which is incompatible.\u001b[0m\u001b[31m\n",
            "\u001b[0mSuccessfully installed torch-2.0.0+cu117 torchaudio-2.0.1+cu117 torchvision-0.15.1+cu117\n"
          ]
        }
      ]
    },
    {
      "cell_type": "markdown",
      "source": [
        "#Here we are cloning the git locally"
      ],
      "metadata": {
        "id": "9fMFGAUtkI1A"
      }
    },
    {
      "cell_type": "code",
      "execution_count": null,
      "metadata": {
        "id": "uSQVKFDC0cOe",
        "colab": {
          "base_uri": "https://localhost:8080/"
        },
        "outputId": "7af0d16a-129c-440e-d470-ceb81f840dc7"
      },
      "outputs": [
        {
          "output_type": "stream",
          "name": "stdout",
          "text": [
            "/content\n",
            "Cloning into 'AMI-diarization-setup'...\n",
            "remote: Enumerating objects: 977, done.\u001b[K\n",
            "remote: Counting objects: 100% (977/977), done.\u001b[K\n",
            "remote: Compressing objects: 100% (429/429), done.\u001b[K\n",
            "remote: Total 977 (delta 390), reused 949 (delta 369), pack-reused 0\u001b[K\n",
            "Receiving objects: 100% (977/977), 1.67 MiB | 5.12 MiB/s, done.\n",
            "Resolving deltas: 100% (390/390), done.\n",
            "/content/AMI-diarization-setup/pyannote\n",
            "ES2002a.Array1-01.w 100%[===================>]  38.84M  18.8MB/s    in 2.1s    \n",
            "2023-07-16 11:59:50 URL:https://groups.inf.ed.ac.uk/ami/AMICorpusMirror/amicorpus/ES2002a/audio/ES2002a.Array1-01.wav [40727594/40727594] -> \"amicorpus/ES2002a/audio/ES2002a.Array1-01.wav\" [1]\n",
            "ES2003a.Array1-01.w 100%[===================>]  34.78M  17.8MB/s    in 2.0s    \n",
            "2023-07-16 11:59:52 URL:https://groups.inf.ed.ac.uk/ami/AMICorpusMirror/amicorpus/ES2003a/audio/ES2003a.Array1-01.wav [36472536/36472536] -> \"amicorpus/ES2003a/audio/ES2003a.Array1-01.wav\" [1]\n",
            "ES2004a.Array1-01.w 100%[===================>]  32.02M  17.6MB/s    in 1.8s    \n",
            "2023-07-16 11:59:55 URL:https://groups.inf.ed.ac.uk/ami/AMICorpusMirror/amicorpus/ES2004a/audio/ES2004a.Array1-01.wav [33579394/33579394] -> \"amicorpus/ES2004a/audio/ES2004a.Array1-01.wav\" [1]\n",
            "ES2005a.Array1-01.w 100%[===================>]  14.58M  12.1MB/s    in 1.2s    \n",
            "2023-07-16 11:59:56 URL:https://groups.inf.ed.ac.uk/ami/AMICorpusMirror/amicorpus/ES2005a/audio/ES2005a.Array1-01.wav [15292120/15292120] -> \"amicorpus/ES2005a/audio/ES2005a.Array1-01.wav\" [1]\n",
            "ES2006a.Array1-01.w 100%[===================>]  39.19M  19.2MB/s    in 2.0s    \n",
            "2023-07-16 11:59:59 URL:https://groups.inf.ed.ac.uk/ami/AMICorpusMirror/amicorpus/ES2006a/audio/ES2006a.Array1-01.wav [41098968/41098968] -> \"amicorpus/ES2006a/audio/ES2006a.Array1-01.wav\" [1]\n",
            "ES2007a.Array1-01.w 100%[===================>]  36.81M  18.6MB/s    in 2.0s    \n",
            "2023-07-16 12:00:01 URL:https://groups.inf.ed.ac.uk/ami/AMICorpusMirror/amicorpus/ES2007a/audio/ES2007a.Array1-01.wav [38601772/38601772] -> \"amicorpus/ES2007a/audio/ES2007a.Array1-01.wav\" [1]\n",
            "ES2008a.Array1-01.w 100%[===================>]  31.84M  17.9MB/s    in 1.8s    \n",
            "2023-07-16 12:00:03 URL:https://groups.inf.ed.ac.uk/ami/AMICorpusMirror/amicorpus/ES2008a/audio/ES2008a.Array1-01.wav [33387564/33387564] -> \"amicorpus/ES2008a/audio/ES2008a.Array1-01.wav\" [1]\n",
            "ES2009a.Array1-01.w 100%[===================>]  42.79M  19.5MB/s    in 2.2s    \n",
            "2023-07-16 12:00:06 URL:https://groups.inf.ed.ac.uk/ami/AMICorpusMirror/amicorpus/ES2009a/audio/ES2009a.Array1-01.wav [44870700/44870700] -> \"amicorpus/ES2009a/audio/ES2009a.Array1-01.wav\" [1]\n",
            "ES2010a.Array1-01.w 100%[===================>]  19.66M  14.5MB/s    in 1.4s    \n",
            "2023-07-16 12:00:08 URL:https://groups.inf.ed.ac.uk/ami/AMICorpusMirror/amicorpus/ES2010a/audio/ES2010a.Array1-01.wav [20617260/20617260] -> \"amicorpus/ES2010a/audio/ES2010a.Array1-01.wav\" [1]\n",
            "ES2011a.Array1-01.w 100%[===================>]  33.99M  18.4MB/s    in 1.8s    \n",
            "2023-07-16 12:00:10 URL:https://groups.inf.ed.ac.uk/ami/AMICorpusMirror/amicorpus/ES2011a/audio/ES2011a.Array1-01.wav [35643096/35643096] -> \"amicorpus/ES2011a/audio/ES2011a.Array1-01.wav\" [1]\n",
            "ES2012a.Array1-01.w 100%[===================>]  33.71M  18.3MB/s    in 1.8s    \n",
            "2023-07-16 12:00:12 URL:https://groups.inf.ed.ac.uk/ami/AMICorpusMirror/amicorpus/ES2012a/audio/ES2012a.Array1-01.wav [35345112/35345112] -> \"amicorpus/ES2012a/audio/ES2012a.Array1-01.wav\" [1]\n",
            "ES2013a.Array1-01.w 100%[===================>]  25.18M  16.1MB/s    in 1.6s    \n",
            "2023-07-16 12:00:14 URL:https://groups.inf.ed.ac.uk/ami/AMICorpusMirror/amicorpus/ES2013a/audio/ES2013a.Array1-01.wav [26405592/26405592] -> \"amicorpus/ES2013a/audio/ES2013a.Array1-01.wav\" [1]\n",
            "ES2014a.Array1-01.w 100%[===================>]  35.06M  18.3MB/s    in 1.9s    \n",
            "2023-07-16 12:00:17 URL:https://groups.inf.ed.ac.uk/ami/AMICorpusMirror/amicorpus/ES2014a/audio/ES2014a.Array1-01.wav [36768472/36768472] -> \"amicorpus/ES2014a/audio/ES2014a.Array1-01.wav\" [1]\n",
            "ES2015a.Array1-01.w 100%[===================>]  34.99M  18.5MB/s    in 1.9s    \n",
            "2023-07-16 12:00:19 URL:https://groups.inf.ed.ac.uk/ami/AMICorpusMirror/amicorpus/ES2015a/audio/ES2015a.Array1-01.wav [36689964/36689964] -> \"amicorpus/ES2015a/audio/ES2015a.Array1-01.wav\" [1]\n",
            "ES2016a.Array1-01.w 100%[===================>]  42.24M  19.7MB/s    in 2.1s    \n",
            "2023-07-16 12:00:22 URL:https://groups.inf.ed.ac.uk/ami/AMICorpusMirror/amicorpus/ES2016a/audio/ES2016a.Array1-01.wav [44294104/44294104] -> \"amicorpus/ES2016a/audio/ES2016a.Array1-01.wav\" [1]\n",
            "IS1000a.Array1-01.w 100%[===================>]  48.30M  20.1MB/s    in 2.4s    \n",
            "2023-07-16 12:00:25 URL:https://groups.inf.ed.ac.uk/ami/AMICorpusMirror/amicorpus/IS1000a/audio/IS1000a.Array1-01.wav [50648540/50648540] -> \"amicorpus/IS1000a/audio/IS1000a.Array1-01.wav\" [1]\n",
            "IS1001a.Array1-01.w 100%[===================>]  27.75M  17.0MB/s    in 1.6s    \n",
            "2023-07-16 12:00:27 URL:https://groups.inf.ed.ac.uk/ami/AMICorpusMirror/amicorpus/IS1001a/audio/IS1001a.Array1-01.wav [29096721/29096721] -> \"amicorpus/IS1001a/audio/IS1001a.Array1-01.wav\" [1]\n",
            "IS1003a.Array1-01.w 100%[===================>]  27.88M  17.1MB/s    in 1.6s    \n",
            "2023-07-16 12:00:29 URL:https://groups.inf.ed.ac.uk/ami/AMICorpusMirror/amicorpus/IS1003a/audio/IS1003a.Array1-01.wav [29238717/29238717] -> \"amicorpus/IS1003a/audio/IS1003a.Array1-01.wav\" [1]\n",
            "IS1004a.Array1-01.w 100%[===================>]  24.32M  16.1MB/s    in 1.5s    \n",
            "2023-07-16 12:00:31 URL:https://groups.inf.ed.ac.uk/ami/AMICorpusMirror/amicorpus/IS1004a/audio/IS1004a.Array1-01.wav [25500435/25500435] -> \"amicorpus/IS1004a/audio/IS1004a.Array1-01.wav\" [1]\n",
            "IS1005a.Array1-01.w 100%[===================>]  31.28M  17.8MB/s    in 1.8s    \n",
            "2023-07-16 12:00:33 URL:https://groups.inf.ed.ac.uk/ami/AMICorpusMirror/amicorpus/IS1005a/audio/IS1005a.Array1-01.wav [32799505/32799505] -> \"amicorpus/IS1005a/audio/IS1005a.Array1-01.wav\" [1]\n",
            "IS1006a.Array1-01.w 100%[===================>]  25.96M  16.3MB/s    in 1.6s    \n",
            "2023-07-16 12:00:35 URL:https://groups.inf.ed.ac.uk/ami/AMICorpusMirror/amicorpus/IS1006a/audio/IS1006a.Array1-01.wav [27223485/27223485] -> \"amicorpus/IS1006a/audio/IS1006a.Array1-01.wav\" [1]\n",
            "IS1007a.Array1-01.w 100%[===================>]  29.48M  17.2MB/s    in 1.7s    \n",
            "2023-07-16 12:00:37 URL:https://groups.inf.ed.ac.uk/ami/AMICorpusMirror/amicorpus/IS1007a/audio/IS1007a.Array1-01.wav [30915345/30915345] -> \"amicorpus/IS1007a/audio/IS1007a.Array1-01.wav\" [1]\n",
            "TS3005a.Array1-01.w 100%[===================>]  40.25M  19.2MB/s    in 2.1s    \n",
            "2023-07-16 12:00:40 URL:https://groups.inf.ed.ac.uk/ami/AMICorpusMirror/amicorpus/TS3005a/audio/TS3005a.Array1-01.wav [42206250/42206250] -> \"amicorpus/TS3005a/audio/TS3005a.Array1-01.wav\" [1]\n",
            "TS3006a.Array1-01.w 100%[===================>]  38.24M  18.8MB/s    in 2.0s    \n",
            "2023-07-16 12:00:42 URL:https://groups.inf.ed.ac.uk/ami/AMICorpusMirror/amicorpus/TS3006a/audio/TS3006a.Array1-01.wav [40092714/40092714] -> \"amicorpus/TS3006a/audio/TS3006a.Array1-01.wav\" [1]\n",
            "TS3007a.Array1-01.w 100%[===================>]  49.11M  20.0MB/s    in 2.5s    \n",
            "2023-07-16 12:00:45 URL:https://groups.inf.ed.ac.uk/ami/AMICorpusMirror/amicorpus/TS3007a/audio/TS3007a.Array1-01.wav [51500074/51500074] -> \"amicorpus/TS3007a/audio/TS3007a.Array1-01.wav\" [1]\n",
            "TS3008a.Array1-01.w 100%[===================>]  41.27M  19.5MB/s    in 2.1s    \n",
            "2023-07-16 12:00:48 URL:https://groups.inf.ed.ac.uk/ami/AMICorpusMirror/amicorpus/TS3008a/audio/TS3008a.Array1-01.wav [43272574/43272574] -> \"amicorpus/TS3008a/audio/TS3008a.Array1-01.wav\" [1]\n",
            "TS3009a.Array1-01.w 100%[===================>]  45.96M  20.0MB/s    in 2.3s    \n",
            "2023-07-16 12:00:51 URL:https://groups.inf.ed.ac.uk/ami/AMICorpusMirror/amicorpus/TS3009a/audio/TS3009a.Array1-01.wav [48191870/48191870] -> \"amicorpus/TS3009a/audio/TS3009a.Array1-01.wav\" [1]\n",
            "TS3010a.Array1-01.w 100%[===================>]  31.77M  17.9MB/s    in 1.8s    \n",
            "2023-07-16 12:00:53 URL:https://groups.inf.ed.ac.uk/ami/AMICorpusMirror/amicorpus/TS3010a/audio/TS3010a.Array1-01.wav [33313834/33313834] -> \"amicorpus/TS3010a/audio/TS3010a.Array1-01.wav\" [1]\n",
            "TS3011a.Array1-01.w 100%[===================>]  46.08M  20.0MB/s    in 2.3s    \n",
            "2023-07-16 12:00:56 URL:https://groups.inf.ed.ac.uk/ami/AMICorpusMirror/amicorpus/TS3011a/audio/TS3011a.Array1-01.wav [48313386/48313386] -> \"amicorpus/TS3011a/audio/TS3011a.Array1-01.wav\" [1]\n",
            "TS3012a.Array1-01.w 100%[===================>]  26.23M  16.4MB/s    in 1.6s    \n",
            "2023-07-16 12:00:58 URL:https://groups.inf.ed.ac.uk/ami/AMICorpusMirror/amicorpus/TS3012a/audio/TS3012a.Array1-01.wav [27500244/27500244] -> \"amicorpus/TS3012a/audio/TS3012a.Array1-01.wav\" [1]\n",
            "IS1008a.Array1-01.w 100%[===================>]  28.81M  17.0MB/s    in 1.7s    \n",
            "2023-07-16 12:01:00 URL:https://groups.inf.ed.ac.uk/ami/AMICorpusMirror/amicorpus/IS1008a/audio/IS1008a.Array1-01.wav [30208103/30208103] -> \"amicorpus/IS1008a/audio/IS1008a.Array1-01.wav\" [1]\n",
            "TS3004a.Array1-01.w 100%[===================>]  41.06M  19.4MB/s    in 2.1s    \n",
            "2023-07-16 12:01:03 URL:https://groups.inf.ed.ac.uk/ami/AMICorpusMirror/amicorpus/TS3004a/audio/TS3004a.Array1-01.wav [43051390/43051390] -> \"amicorpus/TS3004a/audio/TS3004a.Array1-01.wav\" [1]\n",
            "IS1009a.Array1-01.w 100%[===================>]  25.61M  16.5MB/s    in 1.6s    \n",
            "2023-07-16 12:01:05 URL:https://groups.inf.ed.ac.uk/ami/AMICorpusMirror/amicorpus/IS1009a/audio/IS1009a.Array1-01.wav [26849383/26849383] -> \"amicorpus/IS1009a/audio/IS1009a.Array1-01.wav\" [1]\n",
            "TS3003a.Array1-01.w 100%[===================>]  45.95M  20.1MB/s    in 2.3s    \n",
            "2023-07-16 12:01:08 URL:https://groups.inf.ed.ac.uk/ami/AMICorpusMirror/amicorpus/TS3003a/audio/TS3003a.Array1-01.wav [48183678/48183678] -> \"amicorpus/TS3003a/audio/TS3003a.Array1-01.wav\" [1]\n"
          ]
        }
      ],
      "source": [
        "# download AMI-SDM mini corpus\n",
        "%cd /content/\n",
        "!git clone https://github.com/pyannote/AMI-diarization-setup\n",
        "%cd /content/AMI-diarization-setup/pyannote/\n",
        "!bash download_ami_sdm_mini.sh"
      ]
    },
    {
      "cell_type": "code",
      "execution_count": null,
      "metadata": {
        "colab": {
          "base_uri": "https://localhost:8080/"
        },
        "id": "wTKkOeMr2QUL",
        "outputId": "e2645823-d9fb-4897-8b56-f127a8f68952"
      },
      "outputs": [
        {
          "output_type": "stream",
          "name": "stdout",
          "text": [
            "2023-07-16 12:01:25.649481: I tensorflow/core/platform/cpu_feature_guard.cc:182] This TensorFlow binary is optimized to use available CPU instructions in performance-critical operations.\n",
            "To enable the following instructions: AVX2 FMA, in other operations, rebuild TensorFlow with the appropriate compiler flags.\n",
            "2023-07-16 12:01:27.407808: W tensorflow/compiler/tf2tensorrt/utils/py_utils.cc:38] TF-TRT Warning: Could not find TensorRT\n",
            "2023-07-16 12:01:29.937861: I tensorflow/compiler/xla/stream_executor/cuda/cuda_gpu_executor.cc:996] successful NUMA node read from SysFS had negative value (-1), but there must be at least one NUMA node, so returning NUMA node zero. See more at https://github.com/torvalds/linux/blob/v6.0/Documentation/ABI/testing/sysfs-bus-pci#L344-L355\n",
            "2023-07-16 12:01:29.938626: I tensorflow/compiler/xla/stream_executor/cuda/cuda_gpu_executor.cc:996] successful NUMA node read from SysFS had negative value (-1), but there must be at least one NUMA node, so returning NUMA node zero. See more at https://github.com/torvalds/linux/blob/v6.0/Documentation/ABI/testing/sysfs-bus-pci#L344-L355\n",
            "2023-07-16 12:01:29.938911: I tensorflow/compiler/xla/stream_executor/cuda/cuda_gpu_executor.cc:996] successful NUMA node read from SysFS had negative value (-1), but there must be at least one NUMA node, so returning NUMA node zero. See more at https://github.com/torvalds/linux/blob/v6.0/Documentation/ABI/testing/sysfs-bus-pci#L344-L355\n",
            "\u001b[92m\u001b[1m\u001b[4mtrain\u001b[0m\n",
            "   28 files\n",
            "   8h46m annotated\n",
            "   6h11m of speech (71%)\n",
            "   112 speakers\n",
            "\u001b[92m\u001b[1m\u001b[4mdevelopment\u001b[0m\n",
            "   3 files\n",
            "   0h56m annotated\n",
            "   0h40m of speech (72%)\n",
            "   12 speakers\n",
            "\u001b[92m\u001b[1m\u001b[4mtest\u001b[0m\n",
            "   3 files\n",
            "   0h56m annotated\n",
            "   0h39m of speech (70%)\n",
            "   12 speakers\n"
          ]
        }
      ],
      "source": [
        "!PYANNOTE_DATABASE_CONFIG=\"/content/AMI-diarization-setup/pyannote/database.yml\" pyannote-database info AMI-SDM.SpeakerDiarization.mini"
      ]
    },
    {
      "cell_type": "markdown",
      "metadata": {
        "id": "09LrQFIfp0zC"
      },
      "source": [
        "Note that we use a \"mini\" version of AMI-SDM so that the tutorial can be run in half an hour but the full version is also available for you to get better results.\n",
        "\n",
        "If you want to try it, replace `download_ami_sdm_mini.sh` by `download_ami_sdm.sh` and `AMI-SDM.SpeakerDiarization.mini` by `AMI-SDM.SpeakerDiarization.only_words` and you are good to go!"
      ]
    },
    {
      "cell_type": "code",
      "execution_count": null,
      "metadata": {
        "id": "l6V8Exw41XBp"
      },
      "outputs": [],
      "source": [
        "import os\n",
        "os.environ[\"PYANNOTE_DATABASE_CONFIG\"] = \"/content/AMI-diarization-setup/pyannote/database.yml\"\n",
        "from pyannote.database import get_protocol, FileFinder\n",
        "dataset = get_protocol(\"AMI-SDM.SpeakerDiarization.mini\", {\"audio\": FileFinder()})"
      ]
    },
    {
      "cell_type": "markdown",
      "metadata": {
        "id": "HivpZEgZEVAu"
      },
      "source": [
        "## Pretrained pipeline\n",
        "\n",
        "Let's start by running the pretrained pipeline on the test set and evaluate its performance.\n",
        "\n",
        "Official [pyannote.audio](https://github.com/pyannote/pyannote-audio) pipelines (i.e. those under the [`pyannote` organization](https://hf.co/pyannote) umbrella) are open-source, but gated. It means that you have to first accept users conditions on their respective Huggingface page to access the pretrained weights and hyper-parameters.\n",
        "\n",
        "To load the speaker diarization pipeline used in this tutorial, you have to\n",
        "* visit [hf.co/pyannote/speaker-diarization](https://hf.co/pyannote/speaker-diarization) and accept the terms\n",
        "* visit [hf.co/pyannote/segmentation](https://hf.co/pyannote/segmentation) (used internally by the speaker diarization pipeline)and accept the terms\n",
        "* log in using `notebook_login`"
      ]
    },
    {
      "cell_type": "code",
      "execution_count": null,
      "metadata": {
        "id": "FbXEQUGXscTQ",
        "colab": {
          "base_uri": "https://localhost:8080/",
          "height": 145,
          "referenced_widgets": [
            "8299a48a7595418fb70c70749233e6ad",
            "8052d96a56cd478d8fadc70b69f9b90c",
            "afb79fd99bf74b6da19aeeb203a7ccb1",
            "43e3fa02cc6c4e3cb3df754b22192cc6",
            "dfffa8148c1a48c2adde832e7b20b230",
            "0cf0953175b2453bb8d8c412627e35c4",
            "2db6960ad58244cca2679d67a24aace8",
            "2a0facb64d7c45f2a0602ef41e6e725b",
            "5371ee4d282e42338b76599fbac67f74",
            "8d39f3f0f453442f869a7e469b30983b",
            "b5060b8881a0422396f8283e05b18420",
            "345e270a769546fdaa1295c30c22c98d",
            "9f1785f070f74c2a901efa92253dca96",
            "9f8e3d2f095a438da4e17ba3d52d6e08",
            "782b48910a264884a45ec9ca083200b3",
            "549bb1f85cd0449b9ab8eb4ba0fdcdce",
            "a7a443a674724fb3bc0bb95e7662be22",
            "34a009d73b894939a95692cc9118cd63",
            "db4ea29102be4358af3021bdc7f68a84",
            "0a5184affd3346c890f605bc4cbf04d0",
            "b06df0b8da1546fc9843eeef7a1285e2",
            "11486c713a9e40ae9d217f92a18cdc76",
            "ca63f01a0a60484e8c4f7667125159e6",
            "4dc54f917829495c8cc02dee60cef5a2",
            "721acd83008947aabf0050b3d0fe78b5",
            "850dfdc35a694761ae08c31a274e4a43",
            "fb23eb4e34184721b80daadec3221bfa",
            "99f1e406e69e42b097337f5da8caef6b",
            "92c6d72c6d7147c0bc09d6f0ad37ed8f",
            "5682917a26ae459f899cf064707bc492",
            "e14d55f333ad43459c1aaaccef60f982",
            "e7c9e5a19b934e8b9a2f575ebf248d61"
          ]
        },
        "outputId": "f960d165-a59e-4753-c5da-80f82a6b0c38"
      },
      "outputs": [
        {
          "output_type": "display_data",
          "data": {
            "text/plain": [
              "VBox(children=(HTML(value='<center> <img\\nsrc=https://huggingface.co/front/assets/huggingface_logo-noborder.sv…"
            ],
            "application/vnd.jupyter.widget-view+json": {
              "version_major": 2,
              "version_minor": 0,
              "model_id": "8299a48a7595418fb70c70749233e6ad"
            }
          },
          "metadata": {}
        }
      ],
      "source": [
        "from huggingface_hub import notebook_login\n",
        "notebook_login()"
      ]
    },
    {
      "cell_type": "code",
      "execution_count": null,
      "metadata": {
        "id": "l7eN_Y792Cxt"
      },
      "outputs": [],
      "source": [
        "from pyannote.audio import Pipeline\n",
        "pretrained_pipeline = Pipeline.from_pretrained(\"pyannote/speaker-diarization\", use_auth_token=True)"
      ]
    },
    {
      "cell_type": "code",
      "execution_count": null,
      "metadata": {
        "colab": {
          "base_uri": "https://localhost:8080/"
        },
        "id": "lDIIp7iaICUC",
        "outputId": "a1fe78c0-b305-4685-b9c0-5de70ab77a71"
      },
      "outputs": [
        {
          "output_type": "stream",
          "name": "stdout",
          "text": [
            "The pretrained pipeline reaches a Diarization Error Rate (DER) of 32.5% on AMI-SDM.SpeakerDiarization.mini test set.\n"
          ]
        }
      ],
      "source": [
        "# this takes approximately 2min to run on Google Colab GPU\n",
        "from pyannote.metrics.diarization import DiarizationErrorRate\n",
        "metric = DiarizationErrorRate()\n",
        "\n",
        "for file in dataset.test():\n",
        "    # apply pretrained pipeline\n",
        "    file[\"pretrained pipeline\"] = pretrained_pipeline(file)\n",
        "\n",
        "    # evaluate its performance\n",
        "    metric(file[\"annotation\"], file[\"pretrained pipeline\"], uem=file[\"annotated\"])\n",
        "\n",
        "print(f\"The pretrained pipeline reaches a Diarization Error Rate (DER) of {100 * abs(metric):.1f}% on {dataset.name} test set.\")"
      ]
    },
    {
      "cell_type": "markdown",
      "source": [
        "This show the diarization error before fine tuning"
      ],
      "metadata": {
        "id": "k8RgTQmxl45v"
      }
    },
    {
      "cell_type": "code",
      "execution_count": null,
      "metadata": {
        "colab": {
          "base_uri": "https://localhost:8080/",
          "height": 189
        },
        "id": "r4UydYQkKsxW",
        "outputId": "fb1f1879-56ff-4b6f-993f-fc32bb6869ca"
      },
      "outputs": [
        {
          "output_type": "execute_result",
          "data": {
            "text/plain": [
              "<pyannote.core.annotation.Annotation at 0x7ac987debeb0>"
            ],
            "image/png": "[encoded data removed]"
          },
          "metadata": {},
          "execution_count": 4
        }
      ],
      "source": [
        "file[\"annotation\"]"
      ]
    },
    {
      "cell_type": "code",
      "execution_count": null,
      "metadata": {
        "colab": {
          "base_uri": "https://localhost:8080/",
          "height": 189
        },
        "id": "s4C7xMQlKwVX",
        "outputId": "c4f695f7-edae-4972-b58e-ace28d738e9c"
      },
      "outputs": [
        {
          "output_type": "execute_result",
          "data": {
            "text/plain": [
              "<pyannote.core.annotation.Annotation at 0x7ac987e6a860>"
            ],
            "image/png": "[encoded data removed]"
          },
          "metadata": {},
          "execution_count": 5
        }
      ],
      "source": [
        "file[\"pretrained pipeline\"]"
      ]
    },
    {
      "cell_type": "markdown",
      "metadata": {
        "id": "qrYuCLLUKALA"
      },
      "source": [
        "## Fine-tuning the segmentation model\n",
        "\n",
        "When a sufficiently large training set of labeled conversations is available, fine-tuning the internal speaker segmentation model may lead to significant performance boost.\n",
        "\n",
        "Starting from the pretrained model..."
      ]
    },
    {
      "cell_type": "markdown",
      "source": [
        "Let's pre trained it"
      ],
      "metadata": {
        "id": "SZoLXRnwl_Sw"
      }
    },
    {
      "cell_type": "code",
      "execution_count": null,
      "metadata": {
        "id": "jeUDgr4f55v6"
      },
      "outputs": [],
      "source": [
        "from pyannote.audio import Model\n",
        "model = Model.from_pretrained(\"pyannote/segmentation\", use_auth_token=True)"
      ]
    },
    {
      "cell_type": "markdown",
      "metadata": {
        "id": "SAyCf7ontua_"
      },
      "source": [
        "... we prepare it for fine-tuning on the training dataset:"
      ]
    },
    {
      "cell_type": "code",
      "execution_count": null,
      "metadata": {
        "id": "Kk_a7ABQ6PPH",
        "colab": {
          "base_uri": "https://localhost:8080/"
        },
        "outputId": "7f930279-e55a-4b04-f866-5c4e1dd75a54"
      },
      "outputs": [
        {
          "output_type": "stream",
          "name": "stdout",
          "text": [
            "Protocol AMI-SDM.SpeakerDiarization.mini does not precompute the output of torchaudio.info(): adding a 'torchaudio.info' preprocessor for you to speed up dataloaders. See pyannote.database documentation on how to do that yourself.\n"
          ]
        }
      ],
      "source": [
        "from pyannote.audio.tasks import Segmentation\n",
        "task = Segmentation(\n",
        "    dataset,\n",
        "    duration=model.specifications.duration,\n",
        "    max_num_speakers=len(model.specifications.classes),\n",
        "    batch_size=32,\n",
        "    num_workers=2,\n",
        "    loss=\"bce\",\n",
        "    vad_loss=\"bce\")\n",
        "model.task = task\n",
        "model.setup(stage=\"fit\")"
      ]
    },
    {
      "cell_type": "markdown",
      "metadata": {
        "id": "TgobhVTKt9sH"
      },
      "source": [
        "The actual training is done with [`lightning`](https://github.com/Lightning-AI/lightning):"
      ]
    },
    {
      "cell_type": "code",
      "execution_count": null,
      "metadata": {
        "id": "f_bVYrNo6TmI",
        "colab": {
          "base_uri": "https://localhost:8080/",
          "height": 574,
          "referenced_widgets": [
            "4ef6ddc81e9c41649c9ed892d452fb80",
            "1d1f2aadfd994b5e830e9e8f268b7157"
          ]
        },
        "outputId": "613f8891-fe0a-47e1-9c33-47b0d222f87a"
      },
      "outputs": [
        {
          "output_type": "stream",
          "name": "stderr",
          "text": [
            "INFO:pytorch_lightning.utilities.rank_zero:GPU available: True, used: True\n",
            "INFO:pytorch_lightning.utilities.rank_zero:TPU available: False, using: 0 TPU cores\n",
            "INFO:pytorch_lightning.utilities.rank_zero:IPU available: False, using: 0 IPUs\n",
            "INFO:pytorch_lightning.utilities.rank_zero:HPU available: False, using: 0 HPUs\n",
            "WARNING:pytorch_lightning.loggers.tensorboard:Missing logger folder: /content/lightning_logs\n",
            "INFO:pytorch_lightning.accelerators.gpu:LOCAL_RANK: 0 - CUDA_VISIBLE_DEVICES: [0]\n"
          ]
        },
        {
          "output_type": "display_data",
          "data": {
            "text/plain": [
              "┏━━━┳━━━━━━━━━━━━━━━━━━━┳━━━━━━━━━━━━━━━━━━┳━━━━━━━━┳━━━━━━━━━━━━━━━━┳━━━━━━━━━━━━━━━━━━━━━━━━━━━━━━━━━━━━━━━━━━━━┓\n",
              "┃\u001b[1;35m \u001b[0m\u001b[1;35m \u001b[0m\u001b[1;35m \u001b[0m┃\u001b[1;35m \u001b[0m\u001b[1;35mName             \u001b[0m\u001b[1;35m \u001b[0m┃\u001b[1;35m \u001b[0m\u001b[1;35mType            \u001b[0m\u001b[1;35m \u001b[0m┃\u001b[1;35m \u001b[0m\u001b[1;35mParams\u001b[0m\u001b[1;35m \u001b[0m┃\u001b[1;35m \u001b[0m\u001b[1;35m      In sizes\u001b[0m\u001b[1;35m \u001b[0m┃\u001b[1;35m \u001b[0m\u001b[1;35m                                 Out sizes\u001b[0m\u001b[1;35m \u001b[0m┃\n",
              "┡━━━╇━━━━━━━━━━━━━━━━━━━╇━━━━━━━━━━━━━━━━━━╇━━━━━━━━╇━━━━━━━━━━━━━━━━╇━━━━━━━━━━━━━━━━━━━━━━━━━━━━━━━━━━━━━━━━━━━━┩\n",
              "│\u001b[2m \u001b[0m\u001b[2m0\u001b[0m\u001b[2m \u001b[0m│ sincnet           │ SincNet          │ 42.6 K │\u001b[37m \u001b[0m\u001b[37m[32, 1, 80000]\u001b[0m\u001b[37m \u001b[0m│\u001b[37m \u001b[0m\u001b[37m                             [32, 60, 293]\u001b[0m\u001b[37m \u001b[0m│\n",
              "│\u001b[2m \u001b[0m\u001b[2m1\u001b[0m\u001b[2m \u001b[0m│ lstm              │ LSTM             │  1.4 M │\u001b[37m \u001b[0m\u001b[37m [32, 293, 60]\u001b[0m\u001b[37m \u001b[0m│\u001b[37m \u001b[0m\u001b[37m   [[32, 293, 256], [[8, 32, 128], [8, 32,\u001b[0m\u001b[37m \u001b[0m│\n",
              "│\u001b[2m   \u001b[0m│                   │                  │        │\u001b[37m                \u001b[0m│\u001b[37m \u001b[0m\u001b[37m                                    128]]]\u001b[0m\u001b[37m \u001b[0m│\n",
              "│\u001b[2m \u001b[0m\u001b[2m2\u001b[0m\u001b[2m \u001b[0m│ linear            │ ModuleList       │ 49.4 K │\u001b[37m \u001b[0m\u001b[37m             ?\u001b[0m\u001b[37m \u001b[0m│\u001b[37m \u001b[0m\u001b[37m                                         ?\u001b[0m\u001b[37m \u001b[0m│\n",
              "│\u001b[2m \u001b[0m\u001b[2m3\u001b[0m\u001b[2m \u001b[0m│ classifier        │ Linear           │    387 │\u001b[37m \u001b[0m\u001b[37m[32, 293, 128]\u001b[0m\u001b[37m \u001b[0m│\u001b[37m \u001b[0m\u001b[37m                              [32, 293, 3]\u001b[0m\u001b[37m \u001b[0m│\n",
              "│\u001b[2m \u001b[0m\u001b[2m4\u001b[0m\u001b[2m \u001b[0m│ activation        │ Sigmoid          │      0 │\u001b[37m \u001b[0m\u001b[37m  [32, 293, 3]\u001b[0m\u001b[37m \u001b[0m│\u001b[37m \u001b[0m\u001b[37m                              [32, 293, 3]\u001b[0m\u001b[37m \u001b[0m│\n",
              "│\u001b[2m \u001b[0m\u001b[2m5\u001b[0m\u001b[2m \u001b[0m│ validation_metric │ MetricCollection │      0 │\u001b[37m \u001b[0m\u001b[37m             ?\u001b[0m\u001b[37m \u001b[0m│\u001b[37m \u001b[0m\u001b[37m                                         ?\u001b[0m\u001b[37m \u001b[0m│\n",
              "└───┴───────────────────┴──────────────────┴────────┴────────────────┴────────────────────────────────────────────┘\n"
            ],
            "text/html": [
              "<pre style=\"white-space:pre;overflow-x:auto;line-height:normal;font-family:Menlo,'DejaVu Sans Mono',consolas,'Courier New',monospace\">┏━━━┳━━━━━━━━━━━━━━━━━━━┳━━━━━━━━━━━━━━━━━━┳━━━━━━━━┳━━━━━━━━━━━━━━━━┳━━━━━━━━━━━━━━━━━━━━━━━━━━━━━━━━━━━━━━━━━━━━┓\n",
              "┃<span style=\"color: #800080; text-decoration-color: #800080; font-weight: bold\">   </span>┃<span style=\"color: #800080; text-decoration-color: #800080; font-weight: bold\"> Name              </span>┃<span style=\"color: #800080; text-decoration-color: #800080; font-weight: bold\"> Type             </span>┃<span style=\"color: #800080; text-decoration-color: #800080; font-weight: bold\"> Params </span>┃<span style=\"color: #800080; text-decoration-color: #800080; font-weight: bold\">       In sizes </span>┃<span style=\"color: #800080; text-decoration-color: #800080; font-weight: bold\">                                  Out sizes </span>┃\n",
              "┡━━━╇━━━━━━━━━━━━━━━━━━━╇━━━━━━━━━━━━━━━━━━╇━━━━━━━━╇━━━━━━━━━━━━━━━━╇━━━━━━━━━━━━━━━━━━━━━━━━━━━━━━━━━━━━━━━━━━━━┩\n",
              "│<span style=\"color: #7f7f7f; text-decoration-color: #7f7f7f\"> 0 </span>│ sincnet           │ SincNet          │ 42.6 K │<span style=\"color: #c0c0c0; text-decoration-color: #c0c0c0\"> [32, 1, 80000] </span>│<span style=\"color: #c0c0c0; text-decoration-color: #c0c0c0\">                              [32, 60, 293] </span>│\n",
              "│<span style=\"color: #7f7f7f; text-decoration-color: #7f7f7f\"> 1 </span>│ lstm              │ LSTM             │  1.4 M │<span style=\"color: #c0c0c0; text-decoration-color: #c0c0c0\">  [32, 293, 60] </span>│<span style=\"color: #c0c0c0; text-decoration-color: #c0c0c0\">    [[32, 293, 256], [[8, 32, 128], [8, 32, </span>│\n",
              "│<span style=\"color: #7f7f7f; text-decoration-color: #7f7f7f\">   </span>│                   │                  │        │<span style=\"color: #c0c0c0; text-decoration-color: #c0c0c0\">                </span>│<span style=\"color: #c0c0c0; text-decoration-color: #c0c0c0\">                                     128]]] </span>│\n",
              "│<span style=\"color: #7f7f7f; text-decoration-color: #7f7f7f\"> 2 </span>│ linear            │ ModuleList       │ 49.4 K │<span style=\"color: #c0c0c0; text-decoration-color: #c0c0c0\">              ? </span>│<span style=\"color: #c0c0c0; text-decoration-color: #c0c0c0\">                                          ? </span>│\n",
              "│<span style=\"color: #7f7f7f; text-decoration-color: #7f7f7f\"> 3 </span>│ classifier        │ Linear           │    387 │<span style=\"color: #c0c0c0; text-decoration-color: #c0c0c0\"> [32, 293, 128] </span>│<span style=\"color: #c0c0c0; text-decoration-color: #c0c0c0\">                               [32, 293, 3] </span>│\n",
              "│<span style=\"color: #7f7f7f; text-decoration-color: #7f7f7f\"> 4 </span>│ activation        │ Sigmoid          │      0 │<span style=\"color: #c0c0c0; text-decoration-color: #c0c0c0\">   [32, 293, 3] </span>│<span style=\"color: #c0c0c0; text-decoration-color: #c0c0c0\">                               [32, 293, 3] </span>│\n",
              "│<span style=\"color: #7f7f7f; text-decoration-color: #7f7f7f\"> 5 </span>│ validation_metric │ MetricCollection │      0 │<span style=\"color: #c0c0c0; text-decoration-color: #c0c0c0\">              ? </span>│<span style=\"color: #c0c0c0; text-decoration-color: #c0c0c0\">                                          ? </span>│\n",
              "└───┴───────────────────┴──────────────────┴────────┴────────────────┴────────────────────────────────────────────┘\n",
              "</pre>\n"
            ]
          },
          "metadata": {}
        },
        {
          "output_type": "display_data",
          "data": {
            "text/plain": [
              "\u001b[1mTrainable params\u001b[0m: 1.5 M                                                                                            \n",
              "\u001b[1mNon-trainable params\u001b[0m: 0                                                                                            \n",
              "\u001b[1mTotal params\u001b[0m: 1.5 M                                                                                                \n",
              "\u001b[1mTotal estimated model params size (MB)\u001b[0m: 5                                                                          \n"
            ],
            "text/html": [
              "<pre style=\"white-space:pre;overflow-x:auto;line-height:normal;font-family:Menlo,'DejaVu Sans Mono',consolas,'Courier New',monospace\"><span style=\"font-weight: bold\">Trainable params</span>: 1.5 M                                                                                            \n",
              "<span style=\"font-weight: bold\">Non-trainable params</span>: 0                                                                                            \n",
              "<span style=\"font-weight: bold\">Total params</span>: 1.5 M                                                                                                \n",
              "<span style=\"font-weight: bold\">Total estimated model params size (MB)</span>: 5                                                                          \n",
              "</pre>\n"
            ]
          },
          "metadata": {}
        },
        {
          "output_type": "display_data",
          "data": {
            "text/plain": [
              "Output()"
            ],
            "application/vnd.jupyter.widget-view+json": {
              "version_major": 2,
              "version_minor": 0,
              "model_id": "4ef6ddc81e9c41649c9ed892d452fb80"
            }
          },
          "metadata": {}
        },
        {
          "output_type": "display_data",
          "data": {
            "text/plain": [],
            "text/html": [
              "<pre style=\"white-space:pre;overflow-x:auto;line-height:normal;font-family:Menlo,'DejaVu Sans Mono',consolas,'Courier New',monospace\"></pre>\n"
            ]
          },
          "metadata": {}
        },
        {
          "output_type": "display_data",
          "data": {
            "text/plain": [
              "\n"
            ],
            "text/html": [
              "<pre style=\"white-space:pre;overflow-x:auto;line-height:normal;font-family:Menlo,'DejaVu Sans Mono',consolas,'Courier New',monospace\">\n",
              "</pre>\n"
            ]
          },
          "metadata": {}
        }
      ],
      "source": [
        "# this takes approximately 15min to run on Google Colab GPU\n",
        "from types import MethodType\n",
        "from torch.optim import Adam\n",
        "from pytorch_lightning.callbacks import (\n",
        "    EarlyStopping,\n",
        "    ModelCheckpoint,\n",
        "    RichProgressBar,\n",
        ")\n",
        "\n",
        "# we use Adam optimizer with 1e-4 learning rate\n",
        "def configure_optimizers(self):\n",
        "    return Adam(self.parameters(), lr=1e-4)\n",
        "\n",
        "model.configure_optimizers = MethodType(configure_optimizers, model)\n",
        "\n",
        "# we monitor diarization error rate on the validation set\n",
        "# and use to keep the best checkpoint and stop early\n",
        "monitor, direction = task.val_monitor\n",
        "checkpoint = ModelCheckpoint(\n",
        "    monitor=monitor,\n",
        "    mode=direction,\n",
        "    save_top_k=1,\n",
        "    every_n_epochs=1,\n",
        "    save_last=False,\n",
        "    save_weights_only=False,\n",
        "    filename=\"{epoch}\",\n",
        "    verbose=False,\n",
        ")\n",
        "early_stopping = EarlyStopping(\n",
        "    monitor=monitor,\n",
        "    mode=direction,\n",
        "    min_delta=0.0,\n",
        "    patience=10,\n",
        "    strict=True,\n",
        "    verbose=False,\n",
        ")\n",
        "\n",
        "callbacks = [RichProgressBar(), checkpoint, early_stopping]\n",
        "\n",
        "# we train for at most 20 epochs (might be shorter in case of early stopping)\n",
        "from pytorch_lightning import Trainer\n",
        "trainer = Trainer(accelerator=\"gpu\",\n",
        "                  callbacks=callbacks,\n",
        "                  max_epochs=5,\n",
        "                  gradient_clip_val=0.5)\n",
        "trainer.fit(model)"
      ]
    },
    {
      "cell_type": "code",
      "execution_count": null,
      "metadata": {
        "id": "830LvZfdd3Rn"
      },
      "outputs": [],
      "source": [
        "# save path to the best checkpoint for later use\n",
        "finetuned_model = checkpoint.best_model_path\n",
        "\n",
        "# uncomment to download the checkpoint\n",
        "#from google.colab import files\n",
        "#files.download(finetuned_model)"
      ]
    },
    {
      "cell_type": "markdown",
      "metadata": {
        "id": "2NVGAIMd-uPI"
      },
      "source": [
        "## Optimizing the pipeline hyper-parameters\n",
        "\n",
        "The pretrained `pyannote/speaker-diarization` pipeline relies on its own set of hyper-parameters adapted to the internal `pyannote/segmentation` pretrained model:"
      ]
    },
    {
      "cell_type": "code",
      "execution_count": null,
      "metadata": {
        "colab": {
          "base_uri": "https://localhost:8080/"
        },
        "id": "8OUIBHP7-xk_",
        "outputId": "a2f3a556-708c-4680-ade9-679d8b342a1d"
      },
      "outputs": [
        {
          "output_type": "execute_result",
          "data": {
            "text/plain": [
              "{'segmentation': {'min_duration_off': 0.5817029604921046,\n",
              "  'threshold': 0.4442333667381752},\n",
              " 'clustering': {'method': 'centroid',\n",
              "  'min_cluster_size': 15,\n",
              "  'threshold': 0.7153814381597874}}"
            ]
          },
          "metadata": {},
          "execution_count": 11
        }
      ],
      "source": [
        "pretrained_hyperparameters = pretrained_pipeline.parameters(instantiated=True)\n",
        "pretrained_hyperparameters"
      ]
    },
    {
      "cell_type": "markdown",
      "metadata": {
        "id": "y1rRE4NqJmb5"
      },
      "source": [
        "There is no reason the above hyper-parameters are optimal for the newly finetuned speaker segmentation model. Let's optimize them:\n",
        "\n",
        "* `segmentation.threshold` ($\\theta$  in the [technical report](https://huggingface.co/pyannote/speaker-diarization/resolve/main/technical_report_2.1.pdf), between 0 and 1) controls the aggressiveness of speaker activity detection (i.e. a higher value will result in less detected speech);\n",
        "* `clustering.threshold` ($\\delta$  in the report, between 0 and 2) controls the number of speakers (i.e. a higher value will result in less speakers).\n",
        "* `segmentation.min_duration_off` ($\\Delta$ in the report, in seconds) controls whether intra-speaker pauses are filled. This usually depends on the downstream application so it is better to first force it to zero (i.e. never fill intra-speaker pauses) during optimization.\n",
        "* `clustering.centroid` is the linkage used by the agglomerative clustering step. `centroid` has been found to be slightly better than `average`.\n",
        "* `clustering.min_cluster_size` controls what to do with small speaker clusters. Clusters smaller than that are assigned to the most similar large cluster. `15` is a good default value.\n",
        "\n",
        "We start by optimizing `segmentation.threshold` by assuming that the subsequent clustering step is perfect (cf. `OracleClustering`)."
      ]
    },
    {
      "cell_type": "markdown",
      "source": [
        "Here we are using our pre trained model to check the error rate"
      ],
      "metadata": {
        "id": "Nbjfx8dRm9Vh"
      }
    },
    {
      "cell_type": "markdown",
      "source": [
        "This will find the best segment"
      ],
      "metadata": {
        "id": "utwBC32gnHDj"
      }
    },
    {
      "cell_type": "code",
      "execution_count": null,
      "metadata": {
        "id": "FSWW7bIphgAI",
        "colab": {
          "base_uri": "https://localhost:8080/"
        },
        "outputId": "535ddeff-761d-4ee5-de74-ada250cff826"
      },
      "outputs": [
        {
          "output_type": "stream",
          "name": "stdout",
          "text": [
            "Best segmentation threshold so far: 0.6664448473161746\n",
            "Best segmentation threshold so far: 0.2976220997528466\n",
            "Best segmentation threshold so far: 0.2976220997528466\n",
            "Best segmentation threshold so far: 0.2976220997528466\n",
            "Best segmentation threshold so far: 0.2976220997528466\n",
            "Best segmentation threshold so far: 0.2976220997528466\n",
            "Best segmentation threshold so far: 0.2976220997528466\n",
            "Best segmentation threshold so far: 0.2976220997528466\n",
            "Best segmentation threshold so far: 0.2976220997528466\n",
            "Best segmentation threshold so far: 0.2976220997528466\n",
            "Best segmentation threshold so far: 0.2976220997528466\n",
            "Best segmentation threshold so far: 0.3333374961414486\n",
            "Best segmentation threshold so far: 0.35525487502617703\n",
            "Best segmentation threshold so far: 0.35525487502617703\n",
            "Best segmentation threshold so far: 0.35525487502617703\n",
            "Best segmentation threshold so far: 0.35525487502617703\n",
            "Best segmentation threshold so far: 0.35525487502617703\n",
            "Best segmentation threshold so far: 0.35525487502617703\n",
            "Best segmentation threshold so far: 0.35525487502617703\n",
            "Best segmentation threshold so far: 0.35525487502617703\n",
            "Best segmentation threshold so far: 0.35525487502617703\n",
            "Best segmentation threshold so far: 0.35525487502617703\n"
          ]
        }
      ],
      "source": [
        "# this takes approximately 5min to run on Google Colab GPU\n",
        "from pyannote.audio.pipelines import SpeakerDiarization\n",
        "from pyannote.pipeline import Optimizer\n",
        "\n",
        "pipeline = SpeakerDiarization(\n",
        "    segmentation=finetuned_model,\n",
        "    clustering=\"OracleClustering\",\n",
        ")\n",
        "# as reported in the technical report, min_duration_off can safely be set to 0.0\n",
        "pipeline.freeze({\"segmentation\": {\"min_duration_off\": 0.0}})\n",
        "\n",
        "optimizer = Optimizer(pipeline)\n",
        "dev_set = list(dataset.development())\n",
        "\n",
        "iterations = optimizer.tune_iter(dev_set, show_progress=False)\n",
        "best_loss = 1.0\n",
        "for i, iteration in enumerate(iterations):\n",
        "    print(f\"Best segmentation threshold so far: {iteration['params']['segmentation']['threshold']}\")\n",
        "    if i > 20: break   # 50 iterations should give slightly better results"
      ]
    },
    {
      "cell_type": "markdown",
      "metadata": {
        "id": "pAUx-1Pw3Uc9"
      },
      "source": [
        "Then, we use the optimized value of `segmentation.threshold` and optimize `clustering.threshold`."
      ]
    },
    {
      "cell_type": "code",
      "execution_count": null,
      "metadata": {
        "id": "CSzOWLL5Q29-"
      },
      "outputs": [],
      "source": [
        "best_segmentation_threshold = optimizer.best_params[\"segmentation\"][\"threshold\"]"
      ]
    },
    {
      "cell_type": "markdown",
      "source": [
        "This will find the best Clustering"
      ],
      "metadata": {
        "id": "eVcQmYNdnMhx"
      }
    },
    {
      "cell_type": "code",
      "execution_count": null,
      "metadata": {
        "id": "M_pQkyQ5RCjl",
        "colab": {
          "base_uri": "https://localhost:8080/"
        },
        "outputId": "a4dd7f07-caf7-4729-ad3c-74d8dafa62ce"
      },
      "outputs": [
        {
          "output_type": "stream",
          "name": "stdout",
          "text": [
            "Best clustering threshold so far: 1.9453050552234887\n",
            "Best clustering threshold so far: 1.9453050552234887\n",
            "Best clustering threshold so far: 1.9453050552234887\n",
            "Best clustering threshold so far: 1.9453050552234887\n",
            "Best clustering threshold so far: 1.9453050552234887\n",
            "Best clustering threshold so far: 1.9453050552234887\n",
            "Best clustering threshold so far: 1.9453050552234887\n",
            "Best clustering threshold so far: 1.9453050552234887\n",
            "Best clustering threshold so far: 1.9453050552234887\n",
            "Best clustering threshold so far: 0.6295098948242583\n",
            "Best clustering threshold so far: 0.6295098948242583\n",
            "Best clustering threshold so far: 0.6295098948242583\n",
            "Best clustering threshold so far: 0.6295098948242583\n",
            "Best clustering threshold so far: 0.6295098948242583\n",
            "Best clustering threshold so far: 0.6295098948242583\n",
            "Best clustering threshold so far: 0.6295098948242583\n",
            "Best clustering threshold so far: 0.6295098948242583\n",
            "Best clustering threshold so far: 0.6295098948242583\n",
            "Best clustering threshold so far: 0.6295098948242583\n",
            "Best clustering threshold so far: 0.6295098948242583\n",
            "Best clustering threshold so far: 0.6295098948242583\n",
            "Best clustering threshold so far: 0.6295098948242583\n"
          ]
        }
      ],
      "source": [
        "# this takes approximately 5min to run on Google Colab GPU\n",
        "pipeline = SpeakerDiarization(\n",
        "    segmentation=finetuned_model,\n",
        "    embedding=pretrained_pipeline.embedding,\n",
        "    embedding_exclude_overlap=pretrained_pipeline.embedding_exclude_overlap,\n",
        "    clustering=pretrained_pipeline.klustering,\n",
        ")\n",
        "\n",
        "pipeline.freeze({\n",
        "    \"segmentation\": {\n",
        "        \"threshold\": best_segmentation_threshold,\n",
        "        \"min_duration_off\": 0.0,\n",
        "    },\n",
        "    \"clustering\": {\n",
        "        \"method\": \"centroid\",\n",
        "        \"min_cluster_size\": 15,\n",
        "    },\n",
        "})\n",
        "\n",
        "optimizer = Optimizer(pipeline)\n",
        "iterations = optimizer.tune_iter(dev_set, show_progress=False)\n",
        "best_loss = 1.0\n",
        "for i, iteration in enumerate(iterations):\n",
        "    print(f\"Best clustering threshold so far: {iteration['params']['clustering']['threshold']}\")\n",
        "    if i > 20: break  # 50 iterations should give slightly better results"
      ]
    },
    {
      "cell_type": "markdown",
      "metadata": {
        "id": "BDA2XT-wAzDO"
      },
      "source": [
        "Finally, we use the optimized values of `segmentation.threshold` and `clustering.threshold` to evaluate the performance of the finetuned pipeline:"
      ]
    },
    {
      "cell_type": "code",
      "execution_count": null,
      "metadata": {
        "id": "GBJv2j1U_5mj"
      },
      "outputs": [],
      "source": [
        "best_clustering_threshold = optimizer.best_params['clustering']['threshold']"
      ]
    },
    {
      "cell_type": "code",
      "execution_count": null,
      "metadata": {
        "colab": {
          "base_uri": "https://localhost:8080/"
        },
        "id": "ir1VUqNEimcN",
        "outputId": "47889389-becd-49e8-af16-377d7849b5d5"
      },
      "outputs": [
        {
          "output_type": "stream",
          "name": "stdout",
          "text": [
            "The finetuned pipeline reaches a Diarization Error Rate (DER) of 31.0% on AMI-SDM.SpeakerDiarization.mini test set.\n"
          ]
        }
      ],
      "source": [
        "# this takes approximately 2min to run on Google Colab GPU\n",
        "finetuned_pipeline = SpeakerDiarization(\n",
        "    segmentation=finetuned_model,\n",
        "    embedding=pretrained_pipeline.embedding,\n",
        "    embedding_exclude_overlap=pretrained_pipeline.embedding_exclude_overlap,\n",
        "    clustering=pretrained_pipeline.klustering,\n",
        ")\n",
        "\n",
        "finetuned_pipeline.instantiate({\n",
        "    \"segmentation\": {\n",
        "        \"threshold\": best_segmentation_threshold,\n",
        "        \"min_duration_off\": 0.0,\n",
        "    },\n",
        "    \"clustering\": {\n",
        "        \"method\": \"centroid\",\n",
        "        \"min_cluster_size\": 15,\n",
        "        \"threshold\": best_clustering_threshold,\n",
        "    },\n",
        "})\n",
        "\n",
        "metric = DiarizationErrorRate()\n",
        "\n",
        "for file in dataset.test():\n",
        "    # apply finetuned pipeline\n",
        "    file[\"finetuned pipeline\"] = finetuned_pipeline(file)\n",
        "\n",
        "    # evaluate its performance\n",
        "    metric(file[\"annotation\"], file[\"finetuned pipeline\"], uem=file[\"annotated\"])\n",
        "\n",
        "print(f\"The finetuned pipeline reaches a Diarization Error Rate (DER) of {100 * abs(metric):.1f}% on {dataset.name} test set.\")"
      ]
    },
    {
      "cell_type": "markdown",
      "source": [
        "Here you can see the error count is decrease, if we fine tunned it for more epoch then it should be way less"
      ],
      "metadata": {
        "id": "ZksgzkUaqt5F"
      }
    },
    {
      "cell_type": "code",
      "execution_count": null,
      "metadata": {
        "colab": {
          "base_uri": "https://localhost:8080/",
          "height": 189
        },
        "id": "LFvNtdZTBDZh",
        "outputId": "bb78d56c-312d-4220-9a55-7b4c250aeb0e"
      },
      "outputs": [
        {
          "output_type": "execute_result",
          "data": {
            "text/plain": [
              "<pyannote.core.annotation.Annotation at 0x7ac986bde0b0>"
            ],
            "image/png": "[encoded data removed]"
          },
          "metadata": {},
          "execution_count": 19
        }
      ],
      "source": [
        "file[\"finetuned pipeline\"]"
      ]
    },
    {
      "cell_type": "code",
      "execution_count": null,
      "metadata": {
        "colab": {
          "base_uri": "https://localhost:8080/",
          "height": 189
        },
        "id": "odzLUrqaBHgV",
        "outputId": "56ceecc7-0ddb-4d87-812b-45243b227193"
      },
      "outputs": [
        {
          "output_type": "execute_result",
          "data": {
            "text/plain": [
              "<pyannote.core.annotation.Annotation at 0x7ac94a5e2290>"
            ],
            "image/png": "[encoded data removed]"
          },
          "metadata": {},
          "execution_count": 20
        }
      ],
      "source": [
        "file[\"annotation\"]"
      ]
    },
    {
      "cell_type": "markdown",
      "metadata": {
        "id": "muYEOZ36VJo5"
      },
      "source": [
        "## Conclusion\n",
        "\n",
        "In just about half an hour (and 6 hours of training data), we managed to reduce the diarization error rate from 32.5% to 26.6%.\n",
        "\n",
        "[Yours truly](https://herve.niderb.fr) used this very recipe for their submissions to several speaker diarization benchmarks organized in 2022. I reached:\n",
        "\n"
      ]
    },
    {
      "cell_type": "markdown",
      "source": [
        "Thankyou for watching, in th next video we will try to fine tuned this model on our own dataset"
      ],
      "metadata": {
        "id": "duyRjggCq-_T"
      }
    },
    {
      "cell_type": "code",
      "source": [],
      "metadata": {
        "id": "71k574W_q-Jr"
      },
      "execution_count": null,
      "outputs": []
    }
  ],
  "metadata": {
    "accelerator": "GPU",
    "colab": {
      "provenance": [],
      "gpuType": "T4",
      "include_colab_link": true
    },
    "kernelspec": {
      "display_name": "Python 3",
      "name": "python3"
    },
    "language_info": {
      "name": "python"
    },
    "widgets": {
      "application/vnd.jupyter.widget-state+json": {
        "8299a48a7595418fb70c70749233e6ad": {
          "model_module": "@jupyter-widgets/controls",
          "model_name": "VBoxModel",
          "model_module_version": "1.5.0",
          "state": {
            "_dom_classes": [],
            "_model_module": "@jupyter-widgets/controls",
            "_model_module_version": "1.5.0",
            "_model_name": "VBoxModel",
            "_view_count": null,
            "_view_module": "@jupyter-widgets/controls",
            "_view_module_version": "1.5.0",
            "_view_name": "VBoxView",
            "box_style": "",
            "children": [
              "IPY_MODEL_b06df0b8da1546fc9843eeef7a1285e2",
              "IPY_MODEL_11486c713a9e40ae9d217f92a18cdc76",
              "IPY_MODEL_ca63f01a0a60484e8c4f7667125159e6",
              "IPY_MODEL_4dc54f917829495c8cc02dee60cef5a2"
            ],
            "layout": "IPY_MODEL_2db6960ad58244cca2679d67a24aace8"
          }
        },
        "8052d96a56cd478d8fadc70b69f9b90c": {
          "model_module": "@jupyter-widgets/controls",
          "model_name": "HTMLModel",
          "model_module_version": "1.5.0",
          "state": {
            "_dom_classes": [],
            "_model_module": "@jupyter-widgets/controls",
            "_model_module_version": "1.5.0",
            "_model_name": "HTMLModel",
            "_view_count": null,
            "_view_module": "@jupyter-widgets/controls",
            "_view_module_version": "1.5.0",
            "_view_name": "HTMLView",
            "description": "",
            "description_tooltip": null,
            "layout": "IPY_MODEL_2a0facb64d7c45f2a0602ef41e6e725b",
            "placeholder": "​",
            "style": "IPY_MODEL_5371ee4d282e42338b76599fbac67f74",
            "value": "<center> <img\nsrc=https://huggingface.co/front/assets/huggingface_logo-noborder.svg\nalt='Hugging Face'> <br> Copy a token from <a\nhref=\"https://huggingface.co/settings/tokens\" target=\"_blank\">your Hugging Face\ntokens page</a> and paste it below. <br> Immediately click login after copying\nyour token or it might be stored in plain text in this notebook file. </center>"
          }
        },
        "afb79fd99bf74b6da19aeeb203a7ccb1": {
          "model_module": "@jupyter-widgets/controls",
          "model_name": "PasswordModel",
          "model_module_version": "1.5.0",
          "state": {
            "_dom_classes": [],
            "_model_module": "@jupyter-widgets/controls",
            "_model_module_version": "1.5.0",
            "_model_name": "PasswordModel",
            "_view_count": null,
            "_view_module": "@jupyter-widgets/controls",
            "_view_module_version": "1.5.0",
            "_view_name": "PasswordView",
            "continuous_update": true,
            "description": "Token:",
            "description_tooltip": null,
            "disabled": false,
            "layout": "IPY_MODEL_8d39f3f0f453442f869a7e469b30983b",
            "placeholder": "​",
            "style": "IPY_MODEL_b5060b8881a0422396f8283e05b18420",
            "value": ""
          }
        },
        "43e3fa02cc6c4e3cb3df754b22192cc6": {
          "model_module": "@jupyter-widgets/controls",
          "model_name": "CheckboxModel",
          "model_module_version": "1.5.0",
          "state": {
            "_dom_classes": [],
            "_model_module": "@jupyter-widgets/controls",
            "_model_module_version": "1.5.0",
            "_model_name": "CheckboxModel",
            "_view_count": null,
            "_view_module": "@jupyter-widgets/controls",
            "_view_module_version": "1.5.0",
            "_view_name": "CheckboxView",
            "description": "Add token as git credential?",
            "description_tooltip": null,
            "disabled": false,
            "indent": true,
            "layout": "IPY_MODEL_345e270a769546fdaa1295c30c22c98d",
            "style": "IPY_MODEL_9f1785f070f74c2a901efa92253dca96",
            "value": true
          }
        },
        "dfffa8148c1a48c2adde832e7b20b230": {
          "model_module": "@jupyter-widgets/controls",
          "model_name": "ButtonModel",
          "model_module_version": "1.5.0",
          "state": {
            "_dom_classes": [],
            "_model_module": "@jupyter-widgets/controls",
            "_model_module_version": "1.5.0",
            "_model_name": "ButtonModel",
            "_view_count": null,
            "_view_module": "@jupyter-widgets/controls",
            "_view_module_version": "1.5.0",
            "_view_name": "ButtonView",
            "button_style": "",
            "description": "Login",
            "disabled": false,
            "icon": "",
            "layout": "IPY_MODEL_9f8e3d2f095a438da4e17ba3d52d6e08",
            "style": "IPY_MODEL_782b48910a264884a45ec9ca083200b3",
            "tooltip": ""
          }
        },
        "0cf0953175b2453bb8d8c412627e35c4": {
          "model_module": "@jupyter-widgets/controls",
          "model_name": "HTMLModel",
          "model_module_version": "1.5.0",
          "state": {
            "_dom_classes": [],
            "_model_module": "@jupyter-widgets/controls",
            "_model_module_version": "1.5.0",
            "_model_name": "HTMLModel",
            "_view_count": null,
            "_view_module": "@jupyter-widgets/controls",
            "_view_module_version": "1.5.0",
            "_view_name": "HTMLView",
            "description": "",
            "description_tooltip": null,
            "layout": "IPY_MODEL_549bb1f85cd0449b9ab8eb4ba0fdcdce",
            "placeholder": "​",
            "style": "IPY_MODEL_a7a443a674724fb3bc0bb95e7662be22",
            "value": "\n<b>Pro Tip:</b> If you don't already have one, you can create a dedicated\n'notebooks' token with 'write' access, that you can then easily reuse for all\nnotebooks. </center>"
          }
        },
        "2db6960ad58244cca2679d67a24aace8": {
          "model_module": "@jupyter-widgets/base",
          "model_name": "LayoutModel",
          "model_module_version": "1.2.0",
          "state": {
            "_model_module": "@jupyter-widgets/base",
            "_model_module_version": "1.2.0",
            "_model_name": "LayoutModel",
            "_view_count": null,
            "_view_module": "@jupyter-widgets/base",
            "_view_module_version": "1.2.0",
            "_view_name": "LayoutView",
            "align_content": null,
            "align_items": "center",
            "align_self": null,
            "border": null,
            "bottom": null,
            "display": "flex",
            "flex": null,
            "flex_flow": "column",
            "grid_area": null,
            "grid_auto_columns": null,
            "grid_auto_flow": null,
            "grid_auto_rows": null,
            "grid_column": null,
            "grid_gap": null,
            "grid_row": null,
            "grid_template_areas": null,
            "grid_template_columns": null,
            "grid_template_rows": null,
            "height": null,
            "justify_content": null,
            "justify_items": null,
            "left": null,
            "margin": null,
            "max_height": null,
            "max_width": null,
            "min_height": null,
            "min_width": null,
            "object_fit": null,
            "object_position": null,
            "order": null,
            "overflow": null,
            "overflow_x": null,
            "overflow_y": null,
            "padding": null,
            "right": null,
            "top": null,
            "visibility": null,
            "width": "50%"
          }
        },
        "2a0facb64d7c45f2a0602ef41e6e725b": {
          "model_module": "@jupyter-widgets/base",
          "model_name": "LayoutModel",
          "model_module_version": "1.2.0",
          "state": {
            "_model_module": "@jupyter-widgets/base",
            "_model_module_version": "1.2.0",
            "_model_name": "LayoutModel",
            "_view_count": null,
            "_view_module": "@jupyter-widgets/base",
            "_view_module_version": "1.2.0",
            "_view_name": "LayoutView",
            "align_content": null,
            "align_items": null,
            "align_self": null,
            "border": null,
            "bottom": null,
            "display": null,
            "flex": null,
            "flex_flow": null,
            "grid_area": null,
            "grid_auto_columns": null,
            "grid_auto_flow": null,
            "grid_auto_rows": null,
            "grid_column": null,
            "grid_gap": null,
            "grid_row": null,
            "grid_template_areas": null,
            "grid_template_columns": null,
            "grid_template_rows": null,
            "height": null,
            "justify_content": null,
            "justify_items": null,
            "left": null,
            "margin": null,
            "max_height": null,
            "max_width": null,
            "min_height": null,
            "min_width": null,
            "object_fit": null,
            "object_position": null,
            "order": null,
            "overflow": null,
            "overflow_x": null,
            "overflow_y": null,
            "padding": null,
            "right": null,
            "top": null,
            "visibility": null,
            "width": null
          }
        },
        "5371ee4d282e42338b76599fbac67f74": {
          "model_module": "@jupyter-widgets/controls",
          "model_name": "DescriptionStyleModel",
          "model_module_version": "1.5.0",
          "state": {
            "_model_module": "@jupyter-widgets/controls",
            "_model_module_version": "1.5.0",
            "_model_name": "DescriptionStyleModel",
            "_view_count": null,
            "_view_module": "@jupyter-widgets/base",
            "_view_module_version": "1.2.0",
            "_view_name": "StyleView",
            "description_width": ""
          }
        },
        "8d39f3f0f453442f869a7e469b30983b": {
          "model_module": "@jupyter-widgets/base",
          "model_name": "LayoutModel",
          "model_module_version": "1.2.0",
          "state": {
            "_model_module": "@jupyter-widgets/base",
            "_model_module_version": "1.2.0",
            "_model_name": "LayoutModel",
            "_view_count": null,
            "_view_module": "@jupyter-widgets/base",
            "_view_module_version": "1.2.0",
            "_view_name": "LayoutView",
            "align_content": null,
            "align_items": null,
            "align_self": null,
            "border": null,
            "bottom": null,
            "display": null,
            "flex": null,
            "flex_flow": null,
            "grid_area": null,
            "grid_auto_columns": null,
            "grid_auto_flow": null,
            "grid_auto_rows": null,
            "grid_column": null,
            "grid_gap": null,
            "grid_row": null,
            "grid_template_areas": null,
            "grid_template_columns": null,
            "grid_template_rows": null,
            "height": null,
            "justify_content": null,
            "justify_items": null,
            "left": null,
            "margin": null,
            "max_height": null,
            "max_width": null,
            "min_height": null,
            "min_width": null,
            "object_fit": null,
            "object_position": null,
            "order": null,
            "overflow": null,
            "overflow_x": null,
            "overflow_y": null,
            "padding": null,
            "right": null,
            "top": null,
            "visibility": null,
            "width": null
          }
        },
        "b5060b8881a0422396f8283e05b18420": {
          "model_module": "@jupyter-widgets/controls",
          "model_name": "DescriptionStyleModel",
          "model_module_version": "1.5.0",
          "state": {
            "_model_module": "@jupyter-widgets/controls",
            "_model_module_version": "1.5.0",
            "_model_name": "DescriptionStyleModel",
            "_view_count": null,
            "_view_module": "@jupyter-widgets/base",
            "_view_module_version": "1.2.0",
            "_view_name": "StyleView",
            "description_width": ""
          }
        },
        "345e270a769546fdaa1295c30c22c98d": {
          "model_module": "@jupyter-widgets/base",
          "model_name": "LayoutModel",
          "model_module_version": "1.2.0",
          "state": {
            "_model_module": "@jupyter-widgets/base",
            "_model_module_version": "1.2.0",
            "_model_name": "LayoutModel",
            "_view_count": null,
            "_view_module": "@jupyter-widgets/base",
            "_view_module_version": "1.2.0",
            "_view_name": "LayoutView",
            "align_content": null,
            "align_items": null,
            "align_self": null,
            "border": null,
            "bottom": null,
            "display": null,
            "flex": null,
            "flex_flow": null,
            "grid_area": null,
            "grid_auto_columns": null,
            "grid_auto_flow": null,
            "grid_auto_rows": null,
            "grid_column": null,
            "grid_gap": null,
            "grid_row": null,
            "grid_template_areas": null,
            "grid_template_columns": null,
            "grid_template_rows": null,
            "height": null,
            "justify_content": null,
            "justify_items": null,
            "left": null,
            "margin": null,
            "max_height": null,
            "max_width": null,
            "min_height": null,
            "min_width": null,
            "object_fit": null,
            "object_position": null,
            "order": null,
            "overflow": null,
            "overflow_x": null,
            "overflow_y": null,
            "padding": null,
            "right": null,
            "top": null,
            "visibility": null,
            "width": null
          }
        },
        "9f1785f070f74c2a901efa92253dca96": {
          "model_module": "@jupyter-widgets/controls",
          "model_name": "DescriptionStyleModel",
          "model_module_version": "1.5.0",
          "state": {
            "_model_module": "@jupyter-widgets/controls",
            "_model_module_version": "1.5.0",
            "_model_name": "DescriptionStyleModel",
            "_view_count": null,
            "_view_module": "@jupyter-widgets/base",
            "_view_module_version": "1.2.0",
            "_view_name": "StyleView",
            "description_width": ""
          }
        },
        "9f8e3d2f095a438da4e17ba3d52d6e08": {
          "model_module": "@jupyter-widgets/base",
          "model_name": "LayoutModel",
          "model_module_version": "1.2.0",
          "state": {
            "_model_module": "@jupyter-widgets/base",
            "_model_module_version": "1.2.0",
            "_model_name": "LayoutModel",
            "_view_count": null,
            "_view_module": "@jupyter-widgets/base",
            "_view_module_version": "1.2.0",
            "_view_name": "LayoutView",
            "align_content": null,
            "align_items": null,
            "align_self": null,
            "border": null,
            "bottom": null,
            "display": null,
            "flex": null,
            "flex_flow": null,
            "grid_area": null,
            "grid_auto_columns": null,
            "grid_auto_flow": null,
            "grid_auto_rows": null,
            "grid_column": null,
            "grid_gap": null,
            "grid_row": null,
            "grid_template_areas": null,
            "grid_template_columns": null,
            "grid_template_rows": null,
            "height": null,
            "justify_content": null,
            "justify_items": null,
            "left": null,
            "margin": null,
            "max_height": null,
            "max_width": null,
            "min_height": null,
            "min_width": null,
            "object_fit": null,
            "object_position": null,
            "order": null,
            "overflow": null,
            "overflow_x": null,
            "overflow_y": null,
            "padding": null,
            "right": null,
            "top": null,
            "visibility": null,
            "width": null
          }
        },
        "782b48910a264884a45ec9ca083200b3": {
          "model_module": "@jupyter-widgets/controls",
          "model_name": "ButtonStyleModel",
          "model_module_version": "1.5.0",
          "state": {
            "_model_module": "@jupyter-widgets/controls",
            "_model_module_version": "1.5.0",
            "_model_name": "ButtonStyleModel",
            "_view_count": null,
            "_view_module": "@jupyter-widgets/base",
            "_view_module_version": "1.2.0",
            "_view_name": "StyleView",
            "button_color": null,
            "font_weight": ""
          }
        },
        "549bb1f85cd0449b9ab8eb4ba0fdcdce": {
          "model_module": "@jupyter-widgets/base",
          "model_name": "LayoutModel",
          "model_module_version": "1.2.0",
          "state": {
            "_model_module": "@jupyter-widgets/base",
            "_model_module_version": "1.2.0",
            "_model_name": "LayoutModel",
            "_view_count": null,
            "_view_module": "@jupyter-widgets/base",
            "_view_module_version": "1.2.0",
            "_view_name": "LayoutView",
            "align_content": null,
            "align_items": null,
            "align_self": null,
            "border": null,
            "bottom": null,
            "display": null,
            "flex": null,
            "flex_flow": null,
            "grid_area": null,
            "grid_auto_columns": null,
            "grid_auto_flow": null,
            "grid_auto_rows": null,
            "grid_column": null,
            "grid_gap": null,
            "grid_row": null,
            "grid_template_areas": null,
            "grid_template_columns": null,
            "grid_template_rows": null,
            "height": null,
            "justify_content": null,
            "justify_items": null,
            "left": null,
            "margin": null,
            "max_height": null,
            "max_width": null,
            "min_height": null,
            "min_width": null,
            "object_fit": null,
            "object_position": null,
            "order": null,
            "overflow": null,
            "overflow_x": null,
            "overflow_y": null,
            "padding": null,
            "right": null,
            "top": null,
            "visibility": null,
            "width": null
          }
        },
        "a7a443a674724fb3bc0bb95e7662be22": {
          "model_module": "@jupyter-widgets/controls",
          "model_name": "DescriptionStyleModel",
          "model_module_version": "1.5.0",
          "state": {
            "_model_module": "@jupyter-widgets/controls",
            "_model_module_version": "1.5.0",
            "_model_name": "DescriptionStyleModel",
            "_view_count": null,
            "_view_module": "@jupyter-widgets/base",
            "_view_module_version": "1.2.0",
            "_view_name": "StyleView",
            "description_width": ""
          }
        },
        "34a009d73b894939a95692cc9118cd63": {
          "model_module": "@jupyter-widgets/controls",
          "model_name": "LabelModel",
          "model_module_version": "1.5.0",
          "state": {
            "_dom_classes": [],
            "_model_module": "@jupyter-widgets/controls",
            "_model_module_version": "1.5.0",
            "_model_name": "LabelModel",
            "_view_count": null,
            "_view_module": "@jupyter-widgets/controls",
            "_view_module_version": "1.5.0",
            "_view_name": "LabelView",
            "description": "",
            "description_tooltip": null,
            "layout": "IPY_MODEL_db4ea29102be4358af3021bdc7f68a84",
            "placeholder": "​",
            "style": "IPY_MODEL_0a5184affd3346c890f605bc4cbf04d0",
            "value": "Connecting..."
          }
        },
        "db4ea29102be4358af3021bdc7f68a84": {
          "model_module": "@jupyter-widgets/base",
          "model_name": "LayoutModel",
          "model_module_version": "1.2.0",
          "state": {
            "_model_module": "@jupyter-widgets/base",
            "_model_module_version": "1.2.0",
            "_model_name": "LayoutModel",
            "_view_count": null,
            "_view_module": "@jupyter-widgets/base",
            "_view_module_version": "1.2.0",
            "_view_name": "LayoutView",
            "align_content": null,
            "align_items": null,
            "align_self": null,
            "border": null,
            "bottom": null,
            "display": null,
            "flex": null,
            "flex_flow": null,
            "grid_area": null,
            "grid_auto_columns": null,
            "grid_auto_flow": null,
            "grid_auto_rows": null,
            "grid_column": null,
            "grid_gap": null,
            "grid_row": null,
            "grid_template_areas": null,
            "grid_template_columns": null,
            "grid_template_rows": null,
            "height": null,
            "justify_content": null,
            "justify_items": null,
            "left": null,
            "margin": null,
            "max_height": null,
            "max_width": null,
            "min_height": null,
            "min_width": null,
            "object_fit": null,
            "object_position": null,
            "order": null,
            "overflow": null,
            "overflow_x": null,
            "overflow_y": null,
            "padding": null,
            "right": null,
            "top": null,
            "visibility": null,
            "width": null
          }
        },
        "0a5184affd3346c890f605bc4cbf04d0": {
          "model_module": "@jupyter-widgets/controls",
          "model_name": "DescriptionStyleModel",
          "model_module_version": "1.5.0",
          "state": {
            "_model_module": "@jupyter-widgets/controls",
            "_model_module_version": "1.5.0",
            "_model_name": "DescriptionStyleModel",
            "_view_count": null,
            "_view_module": "@jupyter-widgets/base",
            "_view_module_version": "1.2.0",
            "_view_name": "StyleView",
            "description_width": ""
          }
        },
        "b06df0b8da1546fc9843eeef7a1285e2": {
          "model_module": "@jupyter-widgets/controls",
          "model_name": "LabelModel",
          "model_module_version": "1.5.0",
          "state": {
            "_dom_classes": [],
            "_model_module": "@jupyter-widgets/controls",
            "_model_module_version": "1.5.0",
            "_model_name": "LabelModel",
            "_view_count": null,
            "_view_module": "@jupyter-widgets/controls",
            "_view_module_version": "1.5.0",
            "_view_name": "LabelView",
            "description": "",
            "description_tooltip": null,
            "layout": "IPY_MODEL_721acd83008947aabf0050b3d0fe78b5",
            "placeholder": "​",
            "style": "IPY_MODEL_850dfdc35a694761ae08c31a274e4a43",
            "value": "Token is valid (permission: write)."
          }
        },
        "11486c713a9e40ae9d217f92a18cdc76": {
          "model_module": "@jupyter-widgets/controls",
          "model_name": "LabelModel",
          "model_module_version": "1.5.0",
          "state": {
            "_dom_classes": [],
            "_model_module": "@jupyter-widgets/controls",
            "_model_module_version": "1.5.0",
            "_model_name": "LabelModel",
            "_view_count": null,
            "_view_module": "@jupyter-widgets/controls",
            "_view_module_version": "1.5.0",
            "_view_name": "LabelView",
            "description": "",
            "description_tooltip": null,
            "layout": "IPY_MODEL_fb23eb4e34184721b80daadec3221bfa",
            "placeholder": "​",
            "style": "IPY_MODEL_99f1e406e69e42b097337f5da8caef6b",
            "value": "Your token has been saved in your configured git credential helpers (store)."
          }
        },
        "ca63f01a0a60484e8c4f7667125159e6": {
          "model_module": "@jupyter-widgets/controls",
          "model_name": "LabelModel",
          "model_module_version": "1.5.0",
          "state": {
            "_dom_classes": [],
            "_model_module": "@jupyter-widgets/controls",
            "_model_module_version": "1.5.0",
            "_model_name": "LabelModel",
            "_view_count": null,
            "_view_module": "@jupyter-widgets/controls",
            "_view_module_version": "1.5.0",
            "_view_name": "LabelView",
            "description": "",
            "description_tooltip": null,
            "layout": "IPY_MODEL_92c6d72c6d7147c0bc09d6f0ad37ed8f",
            "placeholder": "​",
            "style": "IPY_MODEL_5682917a26ae459f899cf064707bc492",
            "value": "Your token has been saved to /root/.cache/huggingface/token"
          }
        },
        "4dc54f917829495c8cc02dee60cef5a2": {
          "model_module": "@jupyter-widgets/controls",
          "model_name": "LabelModel",
          "model_module_version": "1.5.0",
          "state": {
            "_dom_classes": [],
            "_model_module": "@jupyter-widgets/controls",
            "_model_module_version": "1.5.0",
            "_model_name": "LabelModel",
            "_view_count": null,
            "_view_module": "@jupyter-widgets/controls",
            "_view_module_version": "1.5.0",
            "_view_name": "LabelView",
            "description": "",
            "description_tooltip": null,
            "layout": "IPY_MODEL_e14d55f333ad43459c1aaaccef60f982",
            "placeholder": "​",
            "style": "IPY_MODEL_e7c9e5a19b934e8b9a2f575ebf248d61",
            "value": "Login successful"
          }
        },
        "721acd83008947aabf0050b3d0fe78b5": {
          "model_module": "@jupyter-widgets/base",
          "model_name": "LayoutModel",
          "model_module_version": "1.2.0",
          "state": {
            "_model_module": "@jupyter-widgets/base",
            "_model_module_version": "1.2.0",
            "_model_name": "LayoutModel",
            "_view_count": null,
            "_view_module": "@jupyter-widgets/base",
            "_view_module_version": "1.2.0",
            "_view_name": "LayoutView",
            "align_content": null,
            "align_items": null,
            "align_self": null,
            "border": null,
            "bottom": null,
            "display": null,
            "flex": null,
            "flex_flow": null,
            "grid_area": null,
            "grid_auto_columns": null,
            "grid_auto_flow": null,
            "grid_auto_rows": null,
            "grid_column": null,
            "grid_gap": null,
            "grid_row": null,
            "grid_template_areas": null,
            "grid_template_columns": null,
            "grid_template_rows": null,
            "height": null,
            "justify_content": null,
            "justify_items": null,
            "left": null,
            "margin": null,
            "max_height": null,
            "max_width": null,
            "min_height": null,
            "min_width": null,
            "object_fit": null,
            "object_position": null,
            "order": null,
            "overflow": null,
            "overflow_x": null,
            "overflow_y": null,
            "padding": null,
            "right": null,
            "top": null,
            "visibility": null,
            "width": null
          }
        },
        "850dfdc35a694761ae08c31a274e4a43": {
          "model_module": "@jupyter-widgets/controls",
          "model_name": "DescriptionStyleModel",
          "model_module_version": "1.5.0",
          "state": {
            "_model_module": "@jupyter-widgets/controls",
            "_model_module_version": "1.5.0",
            "_model_name": "DescriptionStyleModel",
            "_view_count": null,
            "_view_module": "@jupyter-widgets/base",
            "_view_module_version": "1.2.0",
            "_view_name": "StyleView",
            "description_width": ""
          }
        },
        "fb23eb4e34184721b80daadec3221bfa": {
          "model_module": "@jupyter-widgets/base",
          "model_name": "LayoutModel",
          "model_module_version": "1.2.0",
          "state": {
            "_model_module": "@jupyter-widgets/base",
            "_model_module_version": "1.2.0",
            "_model_name": "LayoutModel",
            "_view_count": null,
            "_view_module": "@jupyter-widgets/base",
            "_view_module_version": "1.2.0",
            "_view_name": "LayoutView",
            "align_content": null,
            "align_items": null,
            "align_self": null,
            "border": null,
            "bottom": null,
            "display": null,
            "flex": null,
            "flex_flow": null,
            "grid_area": null,
            "grid_auto_columns": null,
            "grid_auto_flow": null,
            "grid_auto_rows": null,
            "grid_column": null,
            "grid_gap": null,
            "grid_row": null,
            "grid_template_areas": null,
            "grid_template_columns": null,
            "grid_template_rows": null,
            "height": null,
            "justify_content": null,
            "justify_items": null,
            "left": null,
            "margin": null,
            "max_height": null,
            "max_width": null,
            "min_height": null,
            "min_width": null,
            "object_fit": null,
            "object_position": null,
            "order": null,
            "overflow": null,
            "overflow_x": null,
            "overflow_y": null,
            "padding": null,
            "right": null,
            "top": null,
            "visibility": null,
            "width": null
          }
        },
        "99f1e406e69e42b097337f5da8caef6b": {
          "model_module": "@jupyter-widgets/controls",
          "model_name": "DescriptionStyleModel",
          "model_module_version": "1.5.0",
          "state": {
            "_model_module": "@jupyter-widgets/controls",
            "_model_module_version": "1.5.0",
            "_model_name": "DescriptionStyleModel",
            "_view_count": null,
            "_view_module": "@jupyter-widgets/base",
            "_view_module_version": "1.2.0",
            "_view_name": "StyleView",
            "description_width": ""
          }
        },
        "92c6d72c6d7147c0bc09d6f0ad37ed8f": {
          "model_module": "@jupyter-widgets/base",
          "model_name": "LayoutModel",
          "model_module_version": "1.2.0",
          "state": {
            "_model_module": "@jupyter-widgets/base",
            "_model_module_version": "1.2.0",
            "_model_name": "LayoutModel",
            "_view_count": null,
            "_view_module": "@jupyter-widgets/base",
            "_view_module_version": "1.2.0",
            "_view_name": "LayoutView",
            "align_content": null,
            "align_items": null,
            "align_self": null,
            "border": null,
            "bottom": null,
            "display": null,
            "flex": null,
            "flex_flow": null,
            "grid_area": null,
            "grid_auto_columns": null,
            "grid_auto_flow": null,
            "grid_auto_rows": null,
            "grid_column": null,
            "grid_gap": null,
            "grid_row": null,
            "grid_template_areas": null,
            "grid_template_columns": null,
            "grid_template_rows": null,
            "height": null,
            "justify_content": null,
            "justify_items": null,
            "left": null,
            "margin": null,
            "max_height": null,
            "max_width": null,
            "min_height": null,
            "min_width": null,
            "object_fit": null,
            "object_position": null,
            "order": null,
            "overflow": null,
            "overflow_x": null,
            "overflow_y": null,
            "padding": null,
            "right": null,
            "top": null,
            "visibility": null,
            "width": null
          }
        },
        "5682917a26ae459f899cf064707bc492": {
          "model_module": "@jupyter-widgets/controls",
          "model_name": "DescriptionStyleModel",
          "model_module_version": "1.5.0",
          "state": {
            "_model_module": "@jupyter-widgets/controls",
            "_model_module_version": "1.5.0",
            "_model_name": "DescriptionStyleModel",
            "_view_count": null,
            "_view_module": "@jupyter-widgets/base",
            "_view_module_version": "1.2.0",
            "_view_name": "StyleView",
            "description_width": ""
          }
        },
        "e14d55f333ad43459c1aaaccef60f982": {
          "model_module": "@jupyter-widgets/base",
          "model_name": "LayoutModel",
          "model_module_version": "1.2.0",
          "state": {
            "_model_module": "@jupyter-widgets/base",
            "_model_module_version": "1.2.0",
            "_model_name": "LayoutModel",
            "_view_count": null,
            "_view_module": "@jupyter-widgets/base",
            "_view_module_version": "1.2.0",
            "_view_name": "LayoutView",
            "align_content": null,
            "align_items": null,
            "align_self": null,
            "border": null,
            "bottom": null,
            "display": null,
            "flex": null,
            "flex_flow": null,
            "grid_area": null,
            "grid_auto_columns": null,
            "grid_auto_flow": null,
            "grid_auto_rows": null,
            "grid_column": null,
            "grid_gap": null,
            "grid_row": null,
            "grid_template_areas": null,
            "grid_template_columns": null,
            "grid_template_rows": null,
            "height": null,
            "justify_content": null,
            "justify_items": null,
            "left": null,
            "margin": null,
            "max_height": null,
            "max_width": null,
            "min_height": null,
            "min_width": null,
            "object_fit": null,
            "object_position": null,
            "order": null,
            "overflow": null,
            "overflow_x": null,
            "overflow_y": null,
            "padding": null,
            "right": null,
            "top": null,
            "visibility": null,
            "width": null
          }
        },
        "e7c9e5a19b934e8b9a2f575ebf248d61": {
          "model_module": "@jupyter-widgets/controls",
          "model_name": "DescriptionStyleModel",
          "model_module_version": "1.5.0",
          "state": {
            "_model_module": "@jupyter-widgets/controls",
            "_model_module_version": "1.5.0",
            "_model_name": "DescriptionStyleModel",
            "_view_count": null,
            "_view_module": "@jupyter-widgets/base",
            "_view_module_version": "1.2.0",
            "_view_name": "StyleView",
            "description_width": ""
          }
        },
        "4ef6ddc81e9c41649c9ed892d452fb80": {
          "model_module": "@jupyter-widgets/output",
          "model_name": "OutputModel",
          "model_module_version": "1.0.0",
          "state": {
            "_dom_classes": [],
            "_model_module": "@jupyter-widgets/output",
            "_model_module_version": "1.0.0",
            "_model_name": "OutputModel",
            "_view_count": null,
            "_view_module": "@jupyter-widgets/output",
            "_view_module_version": "1.0.0",
            "_view_name": "OutputView",
            "layout": "IPY_MODEL_1d1f2aadfd994b5e830e9e8f268b7157",
            "msg_id": "",
            "outputs": [
              {
                "output_type": "display_data",
                "data": {
                  "text/plain": "Epoch 4    \u001b[38;2;98;6;224m━━━━━━━━━━━━━━━━━━━━━━━━━━━━━━━━━━\u001b[0m \u001b[37m219/219\u001b[0m \u001b[38;5;245m0:00:43 • 0:00:00\u001b[0m \u001b[38;5;249m4.98it/s\u001b[0m \u001b[37mloss: 1.48 v_num: 0               \u001b[0m\n                                                                                 \u001b[37mSegmentation-AMI-SDMSpeakerDiariz…\u001b[0m\n                                                                                 \u001b[37m0.232                             \u001b[0m\n                                                                                 \u001b[37mSegmentation-AMI-SDMSpeakerDiariz…\u001b[0m\n                                                                                 \u001b[37m0.54                              \u001b[0m\n                                                                                 \u001b[37mSegmentation-AMI-SDMSpeakerDiariz…\u001b[0m\n                                                                                 \u001b[37m0.045                             \u001b[0m\n                                                                                 \u001b[37mSegmentation-AMI-SDMSpeakerDiariz…\u001b[0m\n                                                                                 \u001b[37m0.121                             \u001b[0m\n                                                                                 \u001b[37mSegmentation-AMI-SDMSpeakerDiariz…\u001b[0m\n                                                                                 \u001b[37m0.066                             \u001b[0m\n                                                                                 \u001b[37mSegmentation-AMI-SDMSpeakerDiariz…\u001b[0m\n                                                                                 \u001b[37m1.643                             \u001b[0m\n",
                  "text/html": "<pre style=\"white-space:pre;overflow-x:auto;line-height:normal;font-family:Menlo,'DejaVu Sans Mono',consolas,'Courier New',monospace\">Epoch 4    <span style=\"color: #6206e0; text-decoration-color: #6206e0\">━━━━━━━━━━━━━━━━━━━━━━━━━━━━━━━━━━</span> <span style=\"color: #c0c0c0; text-decoration-color: #c0c0c0\">219/219</span> <span style=\"color: #8a8a8a; text-decoration-color: #8a8a8a\">0:00:43 • 0:00:00</span> <span style=\"color: #b2b2b2; text-decoration-color: #b2b2b2\">4.98it/s</span> <span style=\"color: #c0c0c0; text-decoration-color: #c0c0c0\">loss: 1.48 v_num: 0               </span>\n                                                                                 <span style=\"color: #c0c0c0; text-decoration-color: #c0c0c0\">Segmentation-AMI-SDMSpeakerDiariz…</span>\n                                                                                 <span style=\"color: #c0c0c0; text-decoration-color: #c0c0c0\">0.232                             </span>\n                                                                                 <span style=\"color: #c0c0c0; text-decoration-color: #c0c0c0\">Segmentation-AMI-SDMSpeakerDiariz…</span>\n                                                                                 <span style=\"color: #c0c0c0; text-decoration-color: #c0c0c0\">0.54                              </span>\n                                                                                 <span style=\"color: #c0c0c0; text-decoration-color: #c0c0c0\">Segmentation-AMI-SDMSpeakerDiariz…</span>\n                                                                                 <span style=\"color: #c0c0c0; text-decoration-color: #c0c0c0\">0.045                             </span>\n                                                                                 <span style=\"color: #c0c0c0; text-decoration-color: #c0c0c0\">Segmentation-AMI-SDMSpeakerDiariz…</span>\n                                                                                 <span style=\"color: #c0c0c0; text-decoration-color: #c0c0c0\">0.121                             </span>\n                                                                                 <span style=\"color: #c0c0c0; text-decoration-color: #c0c0c0\">Segmentation-AMI-SDMSpeakerDiariz…</span>\n                                                                                 <span style=\"color: #c0c0c0; text-decoration-color: #c0c0c0\">0.066                             </span>\n                                                                                 <span style=\"color: #c0c0c0; text-decoration-color: #c0c0c0\">Segmentation-AMI-SDMSpeakerDiariz…</span>\n                                                                                 <span style=\"color: #c0c0c0; text-decoration-color: #c0c0c0\">1.643                             </span>\n</pre>\n"
                },
                "metadata": {}
              }
            ]
          }
        },
        "1d1f2aadfd994b5e830e9e8f268b7157": {
          "model_module": "@jupyter-widgets/base",
          "model_name": "LayoutModel",
          "model_module_version": "1.2.0",
          "state": {
            "_model_module": "@jupyter-widgets/base",
            "_model_module_version": "1.2.0",
            "_model_name": "LayoutModel",
            "_view_count": null,
            "_view_module": "@jupyter-widgets/base",
            "_view_module_version": "1.2.0",
            "_view_name": "LayoutView",
            "align_content": null,
            "align_items": null,
            "align_self": null,
            "border": null,
            "bottom": null,
            "display": null,
            "flex": null,
            "flex_flow": null,
            "grid_area": null,
            "grid_auto_columns": null,
            "grid_auto_flow": null,
            "grid_auto_rows": null,
            "grid_column": null,
            "grid_gap": null,
            "grid_row": null,
            "grid_template_areas": null,
            "grid_template_columns": null,
            "grid_template_rows": null,
            "height": null,
            "justify_content": null,
            "justify_items": null,
            "left": null,
            "margin": null,
            "max_height": null,
            "max_width": null,
            "min_height": null,
            "min_width": null,
            "object_fit": null,
            "object_position": null,
            "order": null,
            "overflow": null,
            "overflow_x": null,
            "overflow_y": null,
            "padding": null,
            "right": null,
            "top": null,
            "visibility": null,
            "width": null
          }
        }
      }
    }
  },
  "nbformat": 4,
  "nbformat_minor": 0
}